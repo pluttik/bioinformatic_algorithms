{
 "cells": [
  {
   "cell_type": "markdown",
   "metadata": {},
   "source": [
    "This jupyter notebook belongs to 'Bioinformatics Algorithms chapter 3: Sequence alignment using dynamic programming'"
   ]
  },
  {
   "cell_type": "markdown",
   "metadata": {},
   "source": [
    "Exercise: How many different paths are there from source to sink in a 16 × 12 rectangular grid?<br>\n",
    "\n",
    "Note: Keep in mind that according to our notation, a 16 × 12 grid contains 17 × 13 = 221 nodes."
   ]
  },
  {
   "cell_type": "markdown",
   "metadata": {},
   "source": [
    "(16x12)!/(16!*12!)"
   ]
  },
  {
   "cell_type": "markdown",
   "metadata": {},
   "source": [
    "RecursiveChange(money,coins)<br>\n",
    "Sample input:<br>\n",
    "76<br>\n",
    "[5,4,1]<br>\n",
    "Sample output:<br>\n"
   ]
  },
  {
   "cell_type": "code",
   "execution_count": 10,
   "metadata": {},
   "outputs": [
    {
     "data": {
      "text/plain": [
       "2"
      ]
     },
     "execution_count": 10,
     "metadata": {},
     "output_type": "execute_result"
    }
   ],
   "source": [
    "def recursive_change(money, coins):\n",
    "    if money == 0:\n",
    "        return 0\n",
    "    min_num_coins = 2000\n",
    "    for coin in coins:\n",
    "        if money >= coin:\n",
    "            num_coins = recursive_change(money - coin, coins)\n",
    "            if num_coins + 1 < min_num_coins:\n",
    "                min_num_coins = num_coins + 1\n",
    "    return min_num_coins\n",
    "\n",
    "recursive_change(20,[10,5])"
   ]
  },
  {
   "cell_type": "markdown",
   "metadata": {},
   "source": [
    "Exercise: Use dynamic programming to fill in the next ten values of MinNumCoins(m) (i.e., for 13 ≤ m ≤ 22). Place all the values on a single line.\n",
    "\n"
   ]
  },
  {
   "cell_type": "markdown",
   "metadata": {},
   "source": [
    "3 3 3 4 4 4 4 4 5 5"
   ]
  },
  {
   "cell_type": "markdown",
   "metadata": {},
   "source": [
    "Code Challenge: Solve the Change Problem. The DPChange pseudocode is reproduced below for your convenience.<br>\n",
    "Input: An integer money and an array Coins = (coin1, ..., coind).<br>\n",
    "Sample input: <br>\n",
    "40<br>\n",
    "50,25,20,10,5,1<br>\n",
    "Output: The minimum number of coins with denominations Coins that changes money.<br>\n",
    "2"
   ]
  },
  {
   "cell_type": "code",
   "execution_count": 24,
   "metadata": {},
   "outputs": [],
   "source": [
    "def dp_change(money, coins):\n",
    "    min_num_coins = {}\n",
    "    min_num_coins[0] = 0\n",
    "    for m in range(1,money+1):\n",
    "        min_num_coins[m] = 2000\n",
    "        for coin in coins:\n",
    "            if m >= coin:\n",
    "                if min_num_coins[m-coin] + 1 < min_num_coins[m]:\n",
    "                    min_num_coins[m] = min_num_coins[m-coin] + 1\n",
    "    return min_num_coins[money]"
   ]
  },
  {
   "cell_type": "code",
   "execution_count": 27,
   "metadata": {},
   "outputs": [
    {
     "data": {
      "text/plain": [
       "817"
      ]
     },
     "execution_count": 27,
     "metadata": {},
     "output_type": "execute_result"
    }
   ],
   "source": [
    "dp_change(16331,[20,19,15,14,11,5,3,1])"
   ]
  },
  {
   "cell_type": "markdown",
   "metadata": {},
   "source": [
    "Find the length of a longest path in the Manhattan Tourist Problem.<br>\n",
    "Input: Integers n and m, followed by an n × (m + 1) matrix Down and an (n + 1) × m matrix Right. <br>The two matrices are separated by\n",
    "the \"-\" symbol.<br>\n",
    "Sample input<br>\n",
    "4 4<br>\n",
    "1 0 2 4 3<br>\n",
    "4 6 5 2 1<br>\n",
    "4 4 5 2 1<br>\n",
    "5 6 8 5 3<br>\n",
    "-<br>\n",
    "3 2 4 0<br>\n",
    "3 2 4 2<br>\n",
    "0 7 3 3<br>\n",
    "3 3 0 2<br>\n",
    "1 3 2 2<br>\n",
    "Output: The length of a longest path from source (0, 0) to sink (n, m) in the n × m rectangular grid whose edges <br>are defined by the\n",
    "matrices Down and Right.<br>\n",
    "Sample output<br>\n",
    "34"
   ]
  },
  {
   "cell_type": "code",
   "execution_count": 37,
   "metadata": {},
   "outputs": [
    {
     "data": {
      "text/plain": [
       "91.0"
      ]
     },
     "execution_count": 37,
     "metadata": {},
     "output_type": "execute_result"
    }
   ],
   "source": [
    "def manhattan_tourist(n,m,downs,rights):\n",
    "    s = numpy.zeros(shape = (n+1,m+1))\n",
    "    s[0,0] = 0\n",
    "    for i in range(1,n+1):\n",
    "        s[i,0] = s[i-1,0] + downs[i-1,0]\n",
    "    for j in range(1,m+1):\n",
    "        s[0,j] = s[0,j-1] + rights[0,j-1]\n",
    "    for i in range(1,n+1):\n",
    "        for j in range(1,m+1):\n",
    "            s[i,j] = max(s[i-1,j] + downs[i-1,j], s[i,j-1] + rights[i,j-1])\n",
    "    return s[n,m]\n",
    "\n",
    "import numpy\n",
    "with open('p245_data.txt') as f:\n",
    "    nm = f.readline().strip('\\n').split(' ')\n",
    "    n = int(nm[0])\n",
    "    m = int(nm[1])\n",
    "    downs = numpy.zeros(shape=(n,m+1))\n",
    "    rights = numpy.zeros(shape=(n+1,m))\n",
    "    line = ''\n",
    "    for i in range(n):\n",
    "        line = f.readline().strip('\\n').split(' ')\n",
    "        downs[i] = line\n",
    "    line = f.readline()\n",
    "    line = ''\n",
    "    for i in range(n+1):\n",
    "        line = f.readline().strip('\\n').split(' ')\n",
    "        rights[i] = line\n",
    "    f.close()    \n",
    "manhattan_tourist(n,m,downs,rights)"
   ]
  },
  {
   "cell_type": "code",
   "execution_count": 14,
   "metadata": {},
   "outputs": [
    {
     "name": "stdout",
     "output_type": "stream",
     "text": [
      "Collecting pandas\n",
      "  Downloading https://files.pythonhosted.org/packages/a2/f1/9c90efc7a128c3336bca8ceb38374c2ba97b90d590e3bb9a2cca1c87fda9/pandas-0.23.0-cp36-cp36m-win32.whl (9.2MB)\n",
      "Requirement already satisfied: python-dateutil>=2.5.0 in c:\\programs\\python364\\lib\\site-packages (from pandas) (2.7.2)\n",
      "Collecting pytz>=2011k (from pandas)\n",
      "  Downloading https://files.pythonhosted.org/packages/dc/83/15f7833b70d3e067ca91467ca245bae0f6fe56ddc7451aa0dc5606b120f2/pytz-2018.4-py2.py3-none-any.whl (510kB)\n",
      "Requirement already satisfied: numpy>=1.9.0 in c:\\programs\\python364\\lib\\site-packages (from pandas) (1.14.3)\n",
      "Requirement already satisfied: six>=1.5 in c:\\programs\\python364\\lib\\site-packages (from python-dateutil>=2.5.0->pandas) (1.11.0)\n",
      "Installing collected packages: pytz, pandas\n",
      "Successfully installed pandas-0.23.0 pytz-2018.4\n"
     ]
    }
   ],
   "source": [
    "import sys\n",
    "!{sys.executable} -m pip install pandas"
   ]
  },
  {
   "cell_type": "markdown",
   "metadata": {},
   "source": [
    "Backtracking of two strings v and w.\n",
    "Input: two strings v and w.\n",
    "Output: backtracking matrix, shaped len(v)+1 by len(w)+1"
   ]
  },
  {
   "cell_type": "code",
   "execution_count": 104,
   "metadata": {},
   "outputs": [
    {
     "name": "stdout",
     "output_type": "stream",
     "text": [
      "s [[0. 0. 0. 0. 0.]\n",
      " [0. 1. 1. 1. 1.]\n",
      " [0. 1. 2. 2. 2.]\n",
      " [0. 1. 2. 3. 3.]\n",
      " [0. 1. 2. 3. 4.]]\n"
     ]
    },
    {
     "data": {
      "text/plain": [
       "array([[0., 0., 0., 0., 0.],\n",
       "       [0., 3., 2., 2., 2.],\n",
       "       [0., 1., 3., 2., 2.],\n",
       "       [0., 1., 1., 3., 2.],\n",
       "       [0., 1., 1., 1., 3.]])"
      ]
     },
     "execution_count": 104,
     "metadata": {},
     "output_type": "execute_result"
    }
   ],
   "source": [
    "def backtrack_lcs(v,w):\n",
    "    s = numpy.zeros(shape = (len(v)+1,len(w)+1))\n",
    "    backtrack = numpy.zeros(shape = (len(v)+1,len(w)+1))\n",
    "    for i in range(1,len(v)+1):\n",
    "        for j in range(1,len(w)+1):\n",
    "            if v[i-1] == w[j-1]:\n",
    "                s[i,j] = max(s[i-1,j], s[i,j-1], s[i-1,j-1]+1)\n",
    "            else:\n",
    "                s[i,j] = max(s[i-1,j], s[i,j-1])\n",
    "            if s[i,j] == s[i-1,j]:\n",
    "                backtrack[i,j] = '1' #1 equals down\n",
    "            elif s[i,j] == s[i,j-1]:\n",
    "                backtrack[i,j] = '2' #2 equals right\n",
    "            elif s[i,j] == s[i-1,j-1] + 1 and v[i-1] == w[j-1]:\n",
    "                backtrack[i,j] = '3' #3 equals diagonally\n",
    "    print('s',s)\n",
    "    return backtrack\n",
    "backtrack_lcs('actg','actg')"
   ]
  },
  {
   "cell_type": "markdown",
   "metadata": {},
   "source": [
    "Use output_lcs to solve the Longest Common Subsequence Problem.<br>\n",
    "Input: Two strings s and t.<br>\n",
    "Sample input:<br>\n",
    "AACCTTGG<br>\n",
    "ACACTGTGA<br>\n",
    "Output: A longest common subsequence of s and t. (Note: more than one solution may exist, in which case you may output any one.)<br>\n",
    "Sample output:<br>\n",
    "AACTGG"
   ]
  },
  {
   "cell_type": "code",
   "execution_count": 169,
   "metadata": {},
   "outputs": [
    {
     "name": "stdout",
     "output_type": "stream",
     "text": [
      "TTTTAGGTGGGATCTTGTTTCCCCACTCAACAGTGTGCGAGGTTATGTATACTGCACGGAATACATCTAAGATCTTAGTCTTATTAGGCCGTTTGACCCAAACGTACTAGCCTGTAGATCCCGTGCTGCTCACTTCATGCTCTTGTCCTGGGACGGCCCCGGCGGAAGATTGCCGCACCGACCCGAATCCCGAGGGATCACGCTAGCATTGCCGCAACTGCTCATATTGTCCAAACCTCGTACCGCGCCGGAAGGAGGGCAGCGGGATGACAGCCTACATCATCCCGATAAGTCACGCATTTGTAACGCTTCACAATCCCTGGGGCCAGTAGGATTCTAAAGAGCGCAACTCACTGGTGCTATATAGTCGATGGCGCGCACTACGGCCCGGCGCTCCATGACCAAGTTTCCTCTATACAATACGGAGTGTAGAGTCCGGCTGACTGGAAAGGCCATTTTTATTGGTGTCCATTCCGAGTCGCGGCATTCGCTCCTCTCCGCAGTAAATTCCGTCCTTACAGAAGGATTGAACCGCAAACATTGTCTAGTGATACCAT"
     ]
    }
   ],
   "source": [
    "def output_lcs(backtrack, v, i, j):\n",
    "    if i == 0 or j == 0:\n",
    "        return\n",
    "    if backtrack[i,j] == 1:\n",
    "        output_lcs(backtrack, v, i-1, j)\n",
    "    elif backtrack[i,j] == 2:\n",
    "        output_lcs(backtrack, v, i, j-1)\n",
    "    else:\n",
    "        output_lcs(backtrack, v, i-1, j-1)\n",
    "        print(v[i-1], end = '')\n",
    "s = 'CTTTACTTCAGCGTCCGAGCAGTGATCTTGTTGTCCTTCTTACACTGCAGACAGTGTGTCGCCAGGCCCCCCCTCTATGTATTACTGGCACGGAACTATCTTATCATAAGAACTACGTTAGTGCTTTTTATTCCAACCGGCCCGATTGTGTACCCAATACTTGGGCTACTAAGACCTGTACGATCCCAGTAGCTGCTACACTTCATGCTACACCCTCATCGTCCTGGGACGGCACCCCCTCATGGGCGAGATAGATTAAAGACCGCATCTCTGACCAAAACAGAAATACCTTTGCAGAGGGACTCTTACTTGCTCAGCATTGCCCGCAATCATGCTTCATATTGTCCAAACGCGTCGCCTACCGCGTAATCCGGAAAATGTCTGCATTAGGGTCAACGCGGGACTGACGAGACTCGTACACTCACTACCTACGTGATAAGTCTACTGGCATCTTGCATATACTGCTTCACAAGTTCCCTGGGGCACTAGTTTAAAGGTATTCGTAATAGGAGGACCGCGACAAACAGTCACCTTGGATGGCGGTATACTAGTCAGATAGGCGCGCAACTTACGGCCCTCGGGGCGCTCCACACTGAGCCAAGAAATTTCACGCCTGCGTATTGACAATAACGGAGTGTTTACGAGTCCAGGCTGACTGGAAATGGTTCCGATTTTTATTAGAGTGTCCGATTCCCGAGTGCGCTGGCATTCGCTCCTCTCCTGCAGATAAATTGCCGTCCTTACAAAGAAGGATTGTTATATATCCTCGCGTAGAAACTATTTAGTTCTATTGTGTATAAGCCATCT'\n",
    "t = 'TATTTAGGAATTGGGATCCTGCTCGTTCTCCCCACTCCATACAAGTGATCTGCGGGAGGGGGTTGATGGATATACCGACTAGCCAAGCTGAAAGAAGTACCATCGTAAGCGCATCTTTAGTCTTAGGGTGTAGGGCAGCAGTTTCGCAACCGGCGAAACGTAAGCTTTTTTGAGTCCCTGTAGATTCCACGTGTCTAGGGGCCTCGACTATCCGAGTGGCTCTTGTCCGTCGGGTATGCAATGTGCCCCGGCGGAAGACGCTTGCTTGCGACACCCGACTGTCCGAACTCCCCCCGGATCGGTCGATAGAACACGACTTAAGCGATACTGTCTCGTGCACACTGGGCTCAGTAGTTACGTTTTCAATCTACAACCCTCGATACTTCCGCGCCGGCCAGAGGAGGGCAGGGCGGGTGATGTATGTCAGCCTACAGTGGCGAATCCCGAACTAAGGTCCGACAGACCCAGTATATGTAACGCTTCAACCTACATCGACGCCCAGATGTGAGGCCCGAGTAGGATCTGGCTCAAAGTAGCTGCATATCTCCATCTGCGTGTTCTATTAAATTAGGTTCGGACCATGCCTTTTTGTGGTCGGCATGCACCTACGTCGACCCGGTCTGCTCTCGATGACCTATTTGAGTTTCTCTCTATACTAATCGCGACCCTGGCAAGTGCAGATAGGAGTCTCTGGCCGATCTGGGAGATCCTGAGACTAAGGGCCACACTTGACATGAGTTAGCTTGGTAAGTATACACAAAATCCTCCAGTTTACTCAGGTCGACACAGGCATTAACAAGTATCTAAATCCAGATAGCACTCGACGCCGGGGGAGTGAAATTTCACCCAGTGACTAACATTACAGCATACGTGGCCCGATTGAGCGACCGCAAACAAATTGGTCCTTAAGCTGAGTACTCTTAGTA'\n",
    "backtrack = backtrack_lcs(s,t)\n",
    "output_lcs(backtrack, s, len(s),len(t))"
   ]
  },
  {
   "cell_type": "markdown",
   "metadata": {},
   "source": [
    "Longest Path in a DAG Problem.<br>\n",
    "Input: An integer representing the starting node to consider in a graph, followed by an integer <br>\n",
    "representing the ending node to consider, followed by a list of edges in the graph. <br>\n",
    "The edge notation \"0->1:7\" indicates that an edge connects node 0 to node 1 with weight 7.  <br>\n",
    "You may assume a given topological order corresponding to nodes in increasing order.<br>\n",
    "Sample input:<br>\n",
    "0<br>\n",
    "4<br>\n",
    "0->1:7<br>\n",
    "0->2:4<br>\n",
    "2->3:2<br>\n",
    "1->4:1<br>\n",
    "3->4:3<br>\n",
    "Output: The length of a longest path in the graph, followed by a longest path. (If multiple longest paths exist, you may return any one.)<br>\n",
    "Sample output:<br>\n",
    "9<br>\n",
    "0->2->3->4\n",
    "\n"
   ]
  },
  {
   "cell_type": "code",
   "execution_count": 3,
   "metadata": {},
   "outputs": [
    {
     "name": "stdout",
     "output_type": "stream",
     "text": [
      "nodes [0, 1, 2, 3, 4, 5, 6] 7\n",
      "scores [0, 5, 7, 5, 11, 14, 15] 7\n",
      "backtrack [0, 0, 1, 0, 2, 1, 5] 7\n",
      "15\n",
      "0->1->5->6\n"
     ]
    }
   ],
   "source": [
    "def longest_path_DAG(start_node, end_node, edges_text):\n",
    "    \n",
    "    #order is TO WHICH NODE / FROM WHICH NODE / EDGE VALUE\n",
    "    incoming_edges = [] #data\n",
    "    longest_path = [] #output maximizing score\n",
    "    nodes = [] #node names\n",
    "    scores = [] #max scores per node filled by memoization/dynamic programming\n",
    "    backtrack = [] #best node to go back to from current node\n",
    "    \n",
    "    for i in range(len(edges_text)):\n",
    "        edge = edges[i].replace(':','->')\n",
    "        edge = re.split(r'->',edge)\n",
    "        edge = [int(e) for e in edge]\n",
    "        incoming_edges.append(edge)\n",
    "    incoming_edges = numpy.array(incoming_edges)\n",
    "    incoming_edges = incoming_edges[incoming_edges[:,0] >= start_node]\n",
    "    incoming_edges = incoming_edges[incoming_edges[:,1] <= end_node]\n",
    "    incoming_edges = incoming_edges[incoming_edges[:,0].argsort()]\n",
    "    nodes = list(numpy.unique(incoming_edges[:,0:2]))\n",
    "    scores.append(0)\n",
    "    backtrack.append(0)\n",
    "    for i in range(1,len(nodes)):\n",
    "        from_node = nodes[i-1]\n",
    "        to_node = nodes[i]\n",
    "        edges_here = incoming_edges[incoming_edges[:,1] == to_node]\n",
    "        if len(edges_here) == 0: \n",
    "            scores.append(-100000)\n",
    "            backtrack.append('na')\n",
    "        else:\n",
    "            s = []\n",
    "            for edge_here in edges_here:\n",
    "                try:\n",
    "                    origin = nodes.index(edge_here[0])\n",
    "                except:\n",
    "                    origin = 0\n",
    "                s.append(scores[origin] + edge_here[2])\n",
    "            max_score = max(s)\n",
    "            max_score_index = s.index(max_score)\n",
    "            scores.append(max(s))\n",
    "            backtrack.append(edges_here[max_score_index,0])\n",
    "    print('nodes',nodes,len(nodes))\n",
    "    print('scores',scores,len(scores))\n",
    "    print('backtrack',backtrack,len(backtrack))\n",
    "    path_position = end_node\n",
    "    while path_position != start_node:\n",
    "        longest_path.append(path_position)\n",
    "        path_position = backtrack[nodes.index(path_position)]\n",
    "    longest_path.append(0)\n",
    "    longest_path.reverse()\n",
    "    longest_path = [str(item) for item in longest_path]\n",
    "    print(scores[-1])\n",
    "    print('->'.join(longest_path))\n",
    "        \n",
    "import re    \n",
    "import numpy\n",
    "with open('p253_data.txt') as f:\n",
    "    start_node = int(f.readline().strip('\\n'))\n",
    "    end_node = int(f.readline().strip('\\n'))\n",
    "    edges = f.readlines()\n",
    "    edges = [edge.strip('\\n') for edge in edges]\n",
    "f.close()\n",
    "longest_path_DAG(start_node, end_node, edges)"
   ]
  },
  {
   "cell_type": "markdown",
   "metadata": {},
   "source": [
    "Global Alignment Problem.<br>\n",
    "Input: Two protein strings written in the single-letter amino acid alphabet.<br>\n",
    "Sample input: <br>\n",
    "PLEASANTLY<br>\n",
    "MEANLY<br>\n",
    "Output: The maximum alignment score of these strings followed by an alignment achieving this maximum score. <br>\n",
    "Use the BLOSUM62 scoring matrix for matches and mismatches as well as the indel penalty σ = 5.<br>\n",
    "Sample ouput:<br>\n",
    "8<br>\n",
    "PLEASANTLY<br>\n",
    "-MEA--N-LY<br>"
   ]
  },
  {
   "cell_type": "code",
   "execution_count": 127,
   "metadata": {},
   "outputs": [
    {
     "name": "stdout",
     "output_type": "stream",
     "text": [
      "1664\n",
      "CLQY-Q--RENWTERQVFRMGQCAPRRMSYSTDMWNK-WLNWGWQIWLTKEKEANMKIHNETRSSIYKGHVWQAIFGMTQRPKHYQIVMCLMNSSIFQCYLGDVSLLVWRGDAHESQLSVTSLFDFRRVPWHG-----D-MQWCQHHLQFCKDWVGEMVWTNQGHCQHIDQLRKAVQPLTHGAPCNFMIIERWWWHGRF--M-GSFYVWQWCFAQMY-N---I-WVIPCRLEFYSKRS-G---CPMLAMWWWGATPDDCTPHESPRKQFGDLNGEA--Y---SRNNYGTMWFQMWMMAKCEFWYRHNTELDFMD-FPVDTWWALNIGGWFCIHSIVKTYMDP-STC-MNGKEVQHEEMFCLEDLGPDMECPCMNLQRWFGFANALQECYYSVPEIP---YVTW----CM--M-IWLNWILRLVIYQMCKGTAQCMWV-SN-----PLLIH-WPVYNSPSFAPMHRFWQWFRWYLGMSW-ELFRVEAGSQTQPLRTPIC-FH-NSTYYIQVWMVNMMPVCASVVNQVAKHCASTKDIWNAHMTY--I----DQFFTWPCQHSALLETRIGWQKNWRMADENQAGGW-QQWETESQGCGCVDAGH----LVNEAVWWPNSGMGWWCPQILNYSTWSARVQHICFYYDRFQHHNDGPC-WVHDDDHWE-CNWIDTLWGIMVS-KVCKFSRVLERKEPIS-TINSCHYSIITWENMHHIMPGLDHQYHTQRENTGLDYGSHNRCPWHK-LKLIW-EMQWQ--LGIHFTFKNQFCIWCICNFRVYHPHMNK----AT-V-----Y--Y---KY\n",
      "CLQLTQIQRENWTQRQP-RP-E-AG--MSYSTGLYTLFWCN-GW---------A---I-----SSIYYGHVWQAIFGMT-----YQISMCLMYGSIFQCNLGDVSLLFHRGDAHESQLSVTFLFDFRRVPWHGFNCYKEFIQWCQHHLQ----W-GEMVWTNTGH---------AVQP--HG---NFM----WW-EGRFRHFTGSFYVWQWCFARMYCSGEYIKWDIPCRLEFYYKRSFGGGDSPMLAMWWWGATPD---------KQFGDLNGEAAGYKLKSRNNYGTM-------AKCEFWYRHNDFLTNTPVIKVPTWYALNIGGWRQKQQ-PSTCMLPWRHCTMNFKAVQHENMF--EN--P---C--MNLQRWFGFANALQKCYYSVPEIAWMMYVTWWRKGMMYGMMIVLNWILRLVIYQMCKGTAQCMWVMTHGWTFRPLLILIW-VYNSPSAAPMHRFWTWFRQYLGMSWQELLN-DLMVRVERAQGHYNGMHANSTYYINMMYV-II-ICASVVNQ--KHCGSTKDCWNAHMAAKGILQRGDQEFTWPCQHS-WCSVR--WPLE-TPGKPLGIKNWYQQWETEQAGCGCVDATHEIVHLVDEAVWWPNSGI----EN-MT-STWSPRVQHICFYYD--DDHRE--CNWIDKGDTLKLCGPM-VL-PVTAPFKVCKFSWMLERKE-IHITINSCHVSIITWENMH----GLLHQYHP----TGLDYGIHNYDPWHKCIELPKKEMQWMNVLGIHFTFKNQFCIWCICQFRVYHPHMNKERHLAVYVCAIMWFFWYQGQKY\n"
     ]
    }
   ],
   "source": [
    "def global_backtrack_lcs(v, w, indel_penalty, matrix):\n",
    "    s = numpy.zeros(shape = (len(v)+1,len(w)+1))\n",
    "    global_backtrack = numpy.zeros(shape = (len(v)+1,len(w)+1))\n",
    "    for i in range(len(v)+1):\n",
    "        s[i,0] = -i*indel_penalty\n",
    "    for i in range(len(w)+1):\n",
    "        s[0,i] = -i*indel_penalty\n",
    "    for i in range(1,len(v)+1):\n",
    "        for j in range(1,len(w)+1):\n",
    "            options = [s[i-1,j] - indel_penalty, s[i,j-1] - indel_penalty, s[i-1,j-1] + matrix[v[i-1]][w[j-1]]]\n",
    "            s[i,j] = max(options)\n",
    "            global_backtrack[i,j] = options.index(s[i,j]) + 1    #1 for up, 2 for left, 3 for diagonally\n",
    "    return global_backtrack\n",
    "\n",
    "def global_output_lcs(global_backtrack, v, w, v_out, w_out, i, j, score):\n",
    "    if i == 0 or j == 0:\n",
    "        if i == 0 and j != 0:\n",
    "            v_out = v_out + w[0]\n",
    "            w_out = w_out + '-'\n",
    "            score = score - indel_penalty\n",
    "            print(score)\n",
    "        if i != 0 and j == 0:\n",
    "            v_out = v_out + '-'\n",
    "            w_out = w_out + v[0]\n",
    "            score = score - indel_penalty\n",
    "            print(score)\n",
    "        if i == 0 and j == 0:\n",
    "            print(score)\n",
    "        print(w_out[::-1])\n",
    "        print(v_out[::-1])\n",
    "        return\n",
    "    if global_backtrack[i,j] == 1:\n",
    "        v_out = v_out + '-'\n",
    "        w_out = w_out + v[i-1]\n",
    "        score = score - indel_penalty\n",
    "        global_output_lcs(global_backtrack, v, w, v_out, w_out, i-1, j, score)\n",
    "    elif global_backtrack[i,j] == 2:\n",
    "        v_out = v_out + w[j-1]\n",
    "        w_out = w_out + '-'\n",
    "        score = score - indel_penalty\n",
    "        global_output_lcs(global_backtrack, v, w, v_out, w_out, i, j-1, score)\n",
    "\n",
    "    else:\n",
    "        v_out = v_out + w[j-1]\n",
    "        w_out = w_out + v[i-1]\n",
    "        score += matrix[v[i-1]][w[j-1]]\n",
    "        global_output_lcs(global_backtrack, v, w, v_out, w_out, i-1, j-1, score)\n",
    "        \n",
    "import pandas\n",
    "matrix = pandas.read_csv('blosum62.txt', sep = ' ', index_col = 'names')\n",
    "indel_penalty = 5\n",
    "s = 'CLQYQRENWTERQVFRMGQCAPRRMSYSTDMWNKWLNWGWQIWLTKEKEANMKIHNETRSSIYKGHVWQAIFGMTQRPKHYQIVMCLMNSSIFQCYLGDVSLLVWRGDAHESQLSVTSLFDFRRVPWHGDMQWCQHHLQFCKDWVGEMVWTNQGHCQHIDQLRKAVQPLTHGAPCNFMIIERWWWHGRFMGSFYVWQWCFAQMYNIWVIPCRLEFYSKRSGCPMLAMWWWGATPDDCTPHESPRKQFGDLNGEAYSRNNYGTMWFQMWMMAKCEFWYRHNTELDFMDFPVDTWWALNIGGWFCIHSIVKTYMDPSTCMNGKEVQHEEMFCLEDLGPDMECPCMNLQRWFGFANALQECYYSVPEIPYVTWCMMIWLNWILRLVIYQMCKGTAQCMWVSNPLLIHWPVYNSPSFAPMHRFWQWFRWYLGMSWELFRVEAGSQTQPLRTPICFHNSTYYIQVWMVNMMPVCASVVNQVAKHCASTKDIWNAHMTYIDQFFTWPCQHSALLETRIGWQKNWRMADENQAGGWQQWETESQGCGCVDAGHLVNEAVWWPNSGMGWWCPQILNYSTWSARVQHICFYYDRFQHHNDGPCWVHDDDHWECNWIDTLWGIMVSKVCKFSRVLERKEPISTINSCHYSIITWENMHHIMPGLDHQYHTQRENTGLDYGSHNRCPWHKLKLIWEMQWQLGIHFTFKNQFCIWCICNFRVYHPHMNKATVYYKY'\n",
    "t = 'CLQLTQIQRENWTQRQPRPEAGMSYSTGLYTLFWCNGWAISSIYYGHVWQAIFGMTYQISMCLMYGSIFQCNLGDVSLLFHRGDAHESQLSVTFLFDFRRVPWHGFNCYKEFIQWCQHHLQWGEMVWTNTGHAVQPHGNFMWWEGRFRHFTGSFYVWQWCFARMYCSGEYIKWDIPCRLEFYYKRSFGGGDSPMLAMWWWGATPDKQFGDLNGEAAGYKLKSRNNYGTMAKCEFWYRHNDFLTNTPVIKVPTWYALNIGGWRQKQQPSTCMLPWRHCTMNFKAVQHENMFENPCMNLQRWFGFANALQKCYYSVPEIAWMMYVTWWRKGMMYGMMIVLNWILRLVIYQMCKGTAQCMWVMTHGWTFRPLLILIWVYNSPSAAPMHRFWTWFRQYLGMSWQELLNDLMVRVERAQGHYNGMHANSTYYINMMYVIIICASVVNQKHCGSTKDCWNAHMAAKGILQRGDQEFTWPCQHSWCSVRWPLETPGKPLGIKNWYQQWETEQAGCGCVDATHEIVHLVDEAVWWPNSGIENMTSTWSPRVQHICFYYDDDHRECNWIDKGDTLKLCGPMVLPVTAPFKVCKFSWMLERKEIHITINSCHVSIITWENMHGLLHQYHPTGLDYGIHNYDPWHKCIELPKKEMQWMNVLGIHFTFKNQFCIWCICQFRVYHPHMNKERHLAVYVCAIMWFFWYQGQKY'\n",
    "s_out = ''\n",
    "t_out = ''\n",
    "score = 0\n",
    "global_backtrack = global_backtrack_lcs(s,t,indel_penalty,matrix)\n",
    "global_output_lcs(global_backtrack, s, t, s_out, t_out, len(s),len(t), score)"
   ]
  },
  {
   "cell_type": "markdown",
   "metadata": {},
   "source": [
    "Local Alignment Problem.<br>\n",
    "Input: Two protein strings written in the single-letter amino acid alphabet.<br>\n",
    "Sample input:<br>\n",
    "MEANLY<br>\n",
    "PENALTY<br>\n",
    "Output: The maximum score of a local alignment of the strings, followed by a local alignment of these strings <br>achieving the maximum score. <br>Use the PAM250 scoring matrix for matches and mismatches as well as the indel penalty σ = 5.<br>\n",
    "Sample output:<br>\n",
    "15<br>\n",
    "EANL-Y<br>\n",
    "ENALTY"
   ]
  },
  {
   "cell_type": "code",
   "execution_count": 245,
   "metadata": {},
   "outputs": [
    {
     "ename": "NameError",
     "evalue": "name 'max_options' is not defined",
     "output_type": "error",
     "traceback": [
      "\u001b[1;31m---------------------------------------------------------------------------\u001b[0m",
      "\u001b[1;31mNameError\u001b[0m                                 Traceback (most recent call last)",
      "\u001b[1;32m<ipython-input-245-c0126d5da9d4>\u001b[0m in \u001b[0;36m<module>\u001b[1;34m()\u001b[0m\n\u001b[0;32m     76\u001b[0m \u001b[0mt_out\u001b[0m \u001b[1;33m=\u001b[0m \u001b[1;34m''\u001b[0m\u001b[1;33m\u001b[0m\u001b[0m\n\u001b[0;32m     77\u001b[0m \u001b[0mscore\u001b[0m \u001b[1;33m=\u001b[0m \u001b[1;36m0\u001b[0m\u001b[1;33m\u001b[0m\u001b[0m\n\u001b[1;32m---> 78\u001b[1;33m \u001b[0mlocal_backtrack_function_output\u001b[0m \u001b[1;33m=\u001b[0m \u001b[0mlocal_backtrack_lcs\u001b[0m\u001b[1;33m(\u001b[0m\u001b[0ms\u001b[0m\u001b[1;33m,\u001b[0m\u001b[0mt\u001b[0m\u001b[1;33m,\u001b[0m\u001b[0mindel_penalty\u001b[0m\u001b[1;33m,\u001b[0m\u001b[0mmatrix\u001b[0m\u001b[1;33m)\u001b[0m\u001b[1;33m\u001b[0m\u001b[0m\n\u001b[0m\u001b[0;32m     79\u001b[0m \u001b[0mlocal_backtrack\u001b[0m \u001b[1;33m=\u001b[0m \u001b[0mlocal_backtrack_function_output\u001b[0m\u001b[1;33m[\u001b[0m\u001b[1;36m0\u001b[0m\u001b[1;33m]\u001b[0m\u001b[1;33m\u001b[0m\u001b[0m\n\u001b[0;32m     80\u001b[0m \u001b[0mfree_ride_to_end_position\u001b[0m \u001b[1;33m=\u001b[0m \u001b[0mlocal_backtrack_function_output\u001b[0m\u001b[1;33m[\u001b[0m\u001b[1;36m1\u001b[0m\u001b[1;33m]\u001b[0m\u001b[1;33m\u001b[0m\u001b[0m\n",
      "\u001b[1;32m<ipython-input-245-c0126d5da9d4>\u001b[0m in \u001b[0;36mlocal_backtrack_lcs\u001b[1;34m(v, w, indel_penalty, matrix)\u001b[0m\n\u001b[0;32m     22\u001b[0m         \u001b[0mlocal_backtrack\u001b[0m\u001b[1;33m[\u001b[0m\u001b[0mk\u001b[0m\u001b[1;33m,\u001b[0m\u001b[0ml\u001b[0m\u001b[1;33m]\u001b[0m \u001b[1;33m=\u001b[0m \u001b[1;36m5\u001b[0m \u001b[1;31m#5 for free ride to sink from max_index\u001b[0m\u001b[1;33m\u001b[0m\u001b[0m\n\u001b[0;32m     23\u001b[0m     \u001b[1;32melse\u001b[0m\u001b[1;33m:\u001b[0m\u001b[1;33m\u001b[0m\u001b[0m\n\u001b[1;32m---> 24\u001b[1;33m         \u001b[0ms\u001b[0m\u001b[1;33m[\u001b[0m\u001b[0mk\u001b[0m\u001b[1;33m,\u001b[0m\u001b[0ml\u001b[0m\u001b[1;33m]\u001b[0m \u001b[1;33m=\u001b[0m \u001b[0mmax_options\u001b[0m\u001b[1;33m\u001b[0m\u001b[0m\n\u001b[0m\u001b[0;32m     25\u001b[0m         \u001b[0mlocal_backtrack\u001b[0m\u001b[1;33m[\u001b[0m\u001b[0mk\u001b[0m\u001b[1;33m,\u001b[0m\u001b[0ml\u001b[0m\u001b[1;33m]\u001b[0m \u001b[1;33m=\u001b[0m \u001b[0moptions\u001b[0m\u001b[1;33m.\u001b[0m\u001b[0mindex\u001b[0m\u001b[1;33m(\u001b[0m\u001b[0ms\u001b[0m\u001b[1;33m[\u001b[0m\u001b[0mk\u001b[0m\u001b[1;33m,\u001b[0m\u001b[0ml\u001b[0m\u001b[1;33m]\u001b[0m\u001b[1;33m)\u001b[0m \u001b[1;33m+\u001b[0m \u001b[1;36m1\u001b[0m\u001b[1;33m\u001b[0m\u001b[0m\n\u001b[0;32m     26\u001b[0m     \u001b[1;32mreturn\u001b[0m \u001b[0mlocal_backtrack\u001b[0m\u001b[1;33m,\u001b[0m \u001b[0mmax_index\u001b[0m\u001b[1;33m\u001b[0m\u001b[0m\n",
      "\u001b[1;31mNameError\u001b[0m: name 'max_options' is not defined"
     ]
    }
   ],
   "source": [
    "def local_backtrack_lcs(v, w, indel_penalty, matrix):\n",
    "    s = numpy.zeros(shape = (len(v)+1,len(w)+1))\n",
    "    local_backtrack = numpy.zeros(shape = (len(v)+1,len(w)+1))\n",
    "    for i in range(len(v)+1):\n",
    "        s[i,0] = -i*indel_penalty\n",
    "    for i in range(len(w)+1):\n",
    "        s[0,i] = -i*indel_penalty\n",
    "    for i in range(1,len(v)+1):\n",
    "        for j in range(1,len(w)+1):\n",
    "            options = [s[i-1,j] - indel_penalty, s[i,j-1] - indel_penalty, s[i-1,j-1] + matrix[v[i-1]][w[j-1]], 0]\n",
    "            s[i,j] = max(options)\n",
    "            local_backtrack[i,j] = options.index(s[i,j]) + 1    #1 for up, 2 for left, 3 for diagonally, #4 for origin\n",
    "            #4 means free ride from origin to somewhere\n",
    "    #solve the bottom right cell of s and local_backtrack\n",
    "    s[-1,-1] = 0\n",
    "    k = len(v)\n",
    "    l = len(w)\n",
    "    options = [s[k-1,l] - indel_penalty, s[k,l-1] - indel_penalty, s[k-1,l-1] + matrix[v[k-1]][w[l-1]]]\n",
    "    max_value, max_index = max((x, (i,j)) for i,row in enumerate(s) for j,x in enumerate(row))\n",
    "    if max(options) < max_value:\n",
    "        s[k,l] = max_value\n",
    "        local_backtrack[k,l] = 5 #5 for free ride to sink from max_index\n",
    "    else:\n",
    "        s[k,l] = max_options\n",
    "        local_backtrack[k,l] = options.index(s[k,l]) + 1\n",
    "    return local_backtrack, max_index\n",
    "\n",
    "def local_output_lcs(local_backtrack, v, w, v_out, w_out, i, j, score, free_ride_to_end_position):\n",
    "    if i == 0 or j == 0:\n",
    "        if i == 0 and j != 0:\n",
    "            v_out = v_out + w[0]\n",
    "            w_out = w_out + '-'\n",
    "            score = score - indel_penalty\n",
    "            print(score)\n",
    "        if i != 0 and j == 0:\n",
    "            v_out = v_out + '-'\n",
    "            w_out = w_out + v[0]\n",
    "            score = score - indel_penalty\n",
    "            print(score)\n",
    "        if i == 0 and j == 0:\n",
    "            print(score)\n",
    "        print(w_out[::-1])\n",
    "        print(v_out[::-1])\n",
    "        return\n",
    "    if local_backtrack[i,j] == 1:\n",
    "        v_out = v_out + '-'\n",
    "        w_out = w_out + v[i-1]\n",
    "        score = score - indel_penalty\n",
    "        local_output_lcs(local_backtrack, v, w, v_out, w_out, i-1, j, score, free_ride_to_end_position)\n",
    "    elif local_backtrack[i,j] == 2:\n",
    "        v_out = v_out + w[j-1]\n",
    "        w_out = w_out + '-'\n",
    "        score = score - indel_penalty\n",
    "        local_output_lcs(local_backtrack, v, w, v_out, w_out, i, j-1, score, free_ride_to_end_position)\n",
    "    elif local_backtrack[i,j] == 3:\n",
    "        v_out = v_out + w[j-1]\n",
    "        w_out = w_out + v[i-1]\n",
    "        score += matrix[v[i-1]][w[j-1]]\n",
    "        local_output_lcs(local_backtrack, v, w, v_out, w_out, i-1, j-1, score, free_ride_to_end_position)\n",
    "    elif local_backtrack[i,j] == 4:\n",
    "        local_output_lcs(local_backtrack, v, w, v_out, w_out, 0, 0, score, free_ride_to_end_position)\n",
    "    elif local_backtrack[i,j] == 5:\n",
    "        i = free_ride_to_end_position[0]\n",
    "        j = free_ride_to_end_position[1]\n",
    "        local_output_lcs(local_backtrack, v, w, v_out, w_out, i, j, score, free_ride_to_end_position)\n",
    "        \n",
    "import pandas\n",
    "import numpy\n",
    "numpy.set_printoptions(threshold=numpy.nan)\n",
    "\n",
    "matrix = pandas.read_csv('PAM250.txt', sep = ' ', index_col = 'names')\n",
    "indel_penalty = 5\n",
    "s = 'DVWAVNRPSCYIDEQCMGAVMICMAIKIFNQTNMPGCRIWWAKKMVTGMMIRNGCLGYRYWVETYFYPRLNTVLHADDYNQLWMDYVREITVGPYNRFWWFMTKMAQAWAAGRLKHAMQEAKNKGLNRYHNENVPNQWPIWTTDLKMELSNMCLHCEIWLYKIPFFKYVFYTICKFCWAIFDHNGLMEGSNAGRQSYATTIAQGLDPMFWPVIGVDAYRPALETLYTGTIRKVTDPAVLPNGFEENECHCGHDMEFLYHNFLWWLVKAGRHYKWCCIVACQMNILSPQVNFLEDDTKHRDAVPQHHEYNPTENFMWYERAKEKDRPSCVSQPLTWRMEYPVATNVGKIHTNLNVYGKCKRCSTQSDVNLPTDFHPQILRHAVSSIDQHFEAGCMHHQYMRWNHEEQHVLIFPRHPETFAMNVCMYEERISAHNEINSKDGHLQALCVKRMAPFMRIASWQGYHFWSPAKHDLHTHWSWDWPYYSCHIYAMKTPSNIHTLYEILYWHYMACWYMGEGVTNYSCDHVLNNDDQWFQFWQYGFHYYPCETRVCAKTMFQARNVNKIKMGQAFYFEGQGCDHSMWHSSYIEVGIEQPFNWVKKRTYPTYFFICIENGYGNCEMGVTKTEIDLSAWNAQCNWFNVAHIDPADIGNVPEAMAWDEHMNLGWVQERASQGEEEKLNWADRDWFNTCKIEIMPSLMQTNPIHWNWMGDLQTAWNIVGPNASQYGQSMMFMYSQRLFDWWKIMHHDFERKPMAAQKMGNCCRFTFIVITTVQQGDQQWNFEHVDKFVAKSAMFGHKNKMWMDAVEMWDMYIVYMESRRMDNWSKWTRGCTMFKLGRICRSEFKSHMDWISNIFVHDQDISEAFWFTHLDFKHCSVIDLDTWFHPICKSFILGKAQGMNH'\n",
    "t = 'GWRARIDWYLQFVICIDYTMNSPHYKFVEPFTHLSKAWFVKQATVYMYVACHNFYMIASHICSFCAMFAIDPYKMWLYICEDPTVADEMCLLVFCFIWTGWKVIELNEWREYESSTAEQIYCKQNEWWSYCSNIDPLLPYFQHIDGQMGEQRWCTKTTNKVWLFQVWSQNEWLVEDKSLVGAMHRQMYSGQSLTPICGVELRSIMWPHNDSKSIIQQQYSIMPINPGHLEPKRNDNPTVFLRKNNITNNDPCPPCRGRVEITPCHGKCPNRKARDQVPQHFMWYERAKEKDRPSKYVSQPLTWRMEYPVATNVGKIHWDWQYESLNVYGKCKRCSTQSDVNLMDVFHPQILRHAVSSIDQHHEAGLFRMVHRWNHEEQHVLIFPPEGDENVCFYEEHISLHNDGHLQALCVKRWQGYHFWSPAKHDLHTHWSWIYAMKTPSNIHTLYIGWYRWHYMACWYMGEFKVAGPVVTNYSCDGCPGFELTVLHEKCQDWPDQNLATPYPCETRVMFQARNVNKIILPMLYCTKMGQADGCQHSMWHSSYIFVGIERTYPTSFFICNGYGNCEHIDLSAWTAAQSMSIRGGKCASGQIFKKNFGINIDVCCDKYFHWIGSKMTHDFDSDYPYNAPRDVTHKWGYRMNWDCLTSRPVYKMAMINIRSVPIDMCMTVQSEAHCMKCAETMVVFPMFGRHNWAVCQMQYNPKSIMPLTGPRSYNVKFPRCVWQCSMAIFHQTQPKPLDFKFAEDAWAVTKPPYAWWAGERKQWLPSTHAQHVGSPLCWPDMADEHIQTPMHKDYDCHMVCYDFQPWTFCCKQINYMHLNIEGLHIPALLNGKGAPVIICMKSCQKKS'\n",
    "s_out = ''\n",
    "t_out = ''\n",
    "score = 0\n",
    "local_backtrack_function_output = local_backtrack_lcs(s,t,indel_penalty,matrix)\n",
    "local_backtrack = local_backtrack_function_output[0]\n",
    "free_ride_to_end_position = local_backtrack_function_output[1]\n",
    "local_output_lcs(local_backtrack, s, t, s_out, t_out, len(s),len(t), score, free_ride_to_end_position)"
   ]
  },
  {
   "cell_type": "markdown",
   "metadata": {},
   "source": [
    "Edit Distance Problem: Find the edit distance between two strings ('edit distance', Vladimir Levenshtein, 1966).<br>\n",
    "Input: Two strings.<br>\n",
    "Sample input:<br>\n",
    "PLEASANTLY<br>\n",
    "MEANLY<br>\n",
    "Output: The edit distance between these strings.<br>\n",
    "Sample output: <br>\n",
    "5"
   ]
  },
  {
   "cell_type": "code",
   "execution_count": 250,
   "metadata": {},
   "outputs": [
    {
     "name": "stdout",
     "output_type": "stream",
     "text": [
      "-392\n",
      "LPIKYDDAATDL-GRQAHLAHQAISMTDKDT--WACALISGGGIEN-----YMMRY-TFKKMYHRDPQVIYPISTNKELGCNIDYMKFGPTHQFYITNLRIFSKHRPWSEKTYDIRVEVNRFSPMHCHTHQ--ANREHDPRFFPHHQQNKVCHMCTKEQYPVLMNDYWSP-----PWPYPAYIYSWLVKLVCTNNTIHYFVDASQHHPYCEEMYAWIDVK-TYCFCWFTQTKHQIEQQWIGESVGCWTQELQTMITNYKKIML----VDDCVLF-----YGDQCYNHPMWHGTKNITY-----V--SAWVTVMKEECVTHPPKHLSPYFM-QAMTVDHMKQKQKSEATPIDYECKVFKEHTPIQHCTWPLKTSWGMLSKDSPTHQDLKYHMCTMQRLQKIPC-AIPRWCQE--F-----VQTQPLFSIE----GCYCNENCL---APNAPETRA-RA---E------FWMTIVVLYTYWIS--TFGLKASKN-------WAK----PQSSCMHQVWHYDWAFDVCKMYMERPFYICGDQITVFVLCTPNSCIKLAVAEY--LRAQ-YLYMDMNAMVCVTLFVFGWYFYFVNSVLPFLRYMI--WP------E--DSYKCCTDTSNHAG--HPEMGCRLKHSLVCGAMEWVFIIMHNCWHSCRKHTRLFYLNKMYIRPAVISIKTLLAISN--ILRAPQMCYYFHRY-VK----EFPMSGMDTDTSPD-TYYFT---LMTRGSN---CHWTTCRNDPPSQRFLLNYTERDG------S--LRFWYCQDTT---ICTSHHERMWWNMFTIKFCIKLGK------SCRQRFDKIEQGFEAKQVNPNSHMFFASRNDNTYSHYHNQKCRCRVTDNHHQTEMKCCCPLMSPPGHEFGEMWNDEGTLC--QYFICYFVEN-GV--M-N--IKERDERDMCPYEMFPFQIDWRLSDVHEN--IHRTQVFIKRYQVYRPKCPAMEDPIAQYDYYGILSQSDQIQY\n",
      "LPIKYDDAAKDPYGRTAHLAHQAISMTDKDHNRWACAYISGGGFEWQIFQWYMMQYPT-KKMS--DPQVIYVISTN--LGPNIDYMKFGPTHQFYSFN---FSIH-------YDIIDSYLRFSPMHCHTHMILANREHDPAFFPHHQQNKVCHKCTKEQYPVLMNDYWSDFKDIIPWPYPAYIYSWLVKLYC-NHYC-Y-VDAMQHHPYCEEMYAWIDHWMTRH----TQTKHQIEQQW---------Q---TMIMNYCKIMTEQMMVDDCVYWSWAHAYGDQCYNHPMWHGQKNITYMKEECVNGSGLQNPPKIEAGPLLAS-LSIHKKTQAMTVDHMKQKQKS---PKAYCCKVFKEEYFTY-CI-------GMFSKDSPTIYYLKQDLKYEAFGIWHMCTAIPRWCQFKWFGPYMFVWTQPLFPDEDWWEGCYCNENCQQWQAPNAPETRAWRNHKPEKVVTQEFWGTIVVLYTYWIEHWTFGLKASKYRFDHRTVWAKSAGAPQS-CMHQVWHYDWAFSVCKMYMYRPVMHSMVVKAVFVLCTPNSCIKDQYI-YCTLDYCHYLYMDMTAHDCVTLNVFVIG-----SVLPFARMMIMIWESNMQMRETEDSYKCFTDTSNHAQESHPTMPCRYQHSLHCDAME-----MH--WHSCRFH--L---NKMYIRPHVISIVTLLAISNNKILRLPQMCYYFNRMFVPPQRLEFPMSGMDTDTSPKLTEHGVAQGLMTRDSNTMSCHQTTCRNDPPSQIFLL--TERDTNKWYKLSISLGFWYCQDTRQWYICTSHHERRWWNMFTIKFCIKLGMTWNVEYSC-QRFDKIC--FII--VNPNSHMFFASRNVNTYSHYHNQMCRC----NHHQTEHKCCCWLMSPPGHEFQKMWNDEGTLGGLQYFICYFVEKQGKWFMENMNIKERDPFLS--YNSF----DA---DVHEVFMIHNNQVFIKRYQVYRPKFPAMEDPRAQ------LSQSDQIFW\n"
     ]
    }
   ],
   "source": [
    "def global_backtrack_lcs(v, w, indel_penalty, matrix):\n",
    "    s = numpy.zeros(shape = (len(v)+1,len(w)+1))\n",
    "    global_backtrack = numpy.zeros(shape = (len(v)+1,len(w)+1))\n",
    "    for i in range(len(v)+1):\n",
    "        s[i,0] = -i*indel_penalty\n",
    "    for i in range(len(w)+1):\n",
    "        s[0,i] = -i*indel_penalty\n",
    "    for i in range(1,len(v)+1):\n",
    "        for j in range(1,len(w)+1):\n",
    "            if v[i-1] == w[j-1]:\n",
    "                mutation_penalty = 0\n",
    "            else:\n",
    "                mutation_penalty = 1\n",
    "            options = [s[i-1,j] - indel_penalty, s[i,j-1] - indel_penalty, s[i-1,j-1] - mutation_penalty]\n",
    "            s[i,j] = max(options)\n",
    "            global_backtrack[i,j] = options.index(s[i,j]) + 1    #1 for up, 2 for left, 3 for diagonally\n",
    "    return global_backtrack\n",
    "\n",
    "def global_output_lcs(global_backtrack, v, w, v_out, w_out, i, j, score):\n",
    "    if i == 0 or j == 0:\n",
    "        if i == 0 and j != 0:\n",
    "            v_out = v_out + w[0]\n",
    "            w_out = w_out + '-'\n",
    "            score = score - indel_penalty\n",
    "            print(score)\n",
    "        if i != 0 and j == 0:\n",
    "            v_out = v_out + '-'\n",
    "            w_out = w_out + v[0]\n",
    "            score = score - indel_penalty\n",
    "            print(score)\n",
    "        if i == 0 and j == 0:\n",
    "            print(score)\n",
    "        print(w_out[::-1])\n",
    "        print(v_out[::-1])\n",
    "        return\n",
    "    if global_backtrack[i,j] == 1:\n",
    "        v_out = v_out + '-'\n",
    "        w_out = w_out + v[i-1]\n",
    "        score = score - indel_penalty\n",
    "        global_output_lcs(global_backtrack, v, w, v_out, w_out, i-1, j, score)\n",
    "    elif global_backtrack[i,j] == 2:\n",
    "        v_out = v_out + w[j-1]\n",
    "        w_out = w_out + '-'\n",
    "        score = score - indel_penalty\n",
    "        global_output_lcs(global_backtrack, v, w, v_out, w_out, i, j-1, score)\n",
    "    else:\n",
    "        if v[i-1] == w[j-1]:\n",
    "            mutation_penalty = 0\n",
    "        else:\n",
    "            mutation_penalty = 1\n",
    "        v_out = v_out + w[j-1]\n",
    "        w_out = w_out + v[i-1]\n",
    "        score -= mutation_penalty\n",
    "        global_output_lcs(global_backtrack, v, w, v_out, w_out, i-1, j-1, score)\n",
    "        \n",
    "indel_penalty = 1\n",
    "s = 'LPIKYDDAATDLGRQAHLAHQAISMTDKDTWACALISGGGIENYMMRYTFKKMYHRDPQVIYPISTNKELGCNIDYMKFGPTHQFYITNLRIFSKHRPWSEKTYDIRVEVNRFSPMHCHTHQANREHDPRFFPHHQQNKVCHMCTKEQYPVLMNDYWSPPWPYPAYIYSWLVKLVCTNNTIHYFVDASQHHPYCEEMYAWIDVKTYCFCWFTQTKHQIEQQWIGESVGCWTQELQTMITNYKKIMLVDDCVLFYGDQCYNHPMWHGTKNITYVSAWVTVMKEECVTHPPKHLSPYFMQAMTVDHMKQKQKSEATPIDYECKVFKEHTPIQHCTWPLKTSWGMLSKDSPTHQDLKYHMCTMQRLQKIPCAIPRWCQEFVQTQPLFSIEGCYCNENCLAPNAPETRARAEFWMTIVVLYTYWISTFGLKASKNWAKPQSSCMHQVWHYDWAFDVCKMYMERPFYICGDQITVFVLCTPNSCIKLAVAEYLRAQYLYMDMNAMVCVTLFVFGWYFYFVNSVLPFLRYMIWPEDSYKCCTDTSNHAGHPEMGCRLKHSLVCGAMEWVFIIMHNCWHSCRKHTRLFYLNKMYIRPAVISIKTLLAISNILRAPQMCYYFHRYVKEFPMSGMDTDTSPDTYYFTLMTRGSNCHWTTCRNDPPSQRFLLNYTERDGSLRFWYCQDTTICTSHHERMWWNMFTIKFCIKLGKSCRQRFDKIEQGFEAKQVNPNSHMFFASRNDNTYSHYHNQKCRCRVTDNHHQTEMKCCCPLMSPPGHEFGEMWNDEGTLCQYFICYFVENGVMNIKERDERDMCPYEMFPFQIDWRLSDVHENIHRTQVFIKRYQVYRPKCPAMEDPIAQYDYYGILSQSDQIQY'\n",
    "t = 'LPIKYDDAAKDPYGRTAHLAHQAISMTDKDHNRWACAYISGGGFEWQIFQWYMMQYPTKKMSDPQVIYVISTNLGPNIDYMKFGPTHQFYSFNFSIHYDIIDSYLRFSPMHCHTHMILANREHDPAFFPHHQQNKVCHKCTKEQYPVLMNDYWSDFKDIIPWPYPAYIYSWLVKLYCNHYCYVDAMQHHPYCEEMYAWIDHWMTRHTQTKHQIEQQWQTMIMNYCKIMTEQMMVDDCVYWSWAHAYGDQCYNHPMWHGQKNITYMKEECVNGSGLQNPPKIEAGPLLASLSIHKKTQAMTVDHMKQKQKSPKAYCCKVFKEEYFTYCIGMFSKDSPTIYYLKQDLKYEAFGIWHMCTAIPRWCQFKWFGPYMFVWTQPLFPDEDWWEGCYCNENCQQWQAPNAPETRAWRNHKPEKVVTQEFWGTIVVLYTYWIEHWTFGLKASKYRFDHRTVWAKSAGAPQSCMHQVWHYDWAFSVCKMYMYRPVMHSMVVKAVFVLCTPNSCIKDQYIYCTLDYCHYLYMDMTAHDCVTLNVFVIGSVLPFARMMIMIWESNMQMRETEDSYKCFTDTSNHAQESHPTMPCRYQHSLHCDAMEMHWHSCRFHLNKMYIRPHVISIVTLLAISNNKILRLPQMCYYFNRMFVPPQRLEFPMSGMDTDTSPKLTEHGVAQGLMTRDSNTMSCHQTTCRNDPPSQIFLLTERDTNKWYKLSISLGFWYCQDTRQWYICTSHHERRWWNMFTIKFCIKLGMTWNVEYSCQRFDKICFIIVNPNSHMFFASRNVNTYSHYHNQMCRCNHHQTEHKCCCWLMSPPGHEFQKMWNDEGTLGGLQYFICYFVEKQGKWFMENMNIKERDPFLSYNSFDADVHEVFMIHNNQVFIKRYQVYRPKFPAMEDPRAQLSQSDQIFW'\n",
    "s_out = ''\n",
    "t_out = ''\n",
    "score = 0\n",
    "global_backtrack = global_backtrack_lcs(s,t,indel_penalty,matrix)\n",
    "global_output_lcs(global_backtrack, s, t, s_out, t_out, len(s),len(t), score)"
   ]
  },
  {
   "cell_type": "markdown",
   "metadata": {},
   "source": [
    "Fitting Alignment Problem: Construct a highest-scoring fitting alignment between two strings.<br>\n",
    "Input: Strings v and w as well as a matrix Score (where v has length at most 1000 and w has length at most 100).<br>\n",
    "Use the simple scoring method in which matches count +1 and both the mismatch and indel penalties are 1.<br>\n",
    "Sample input:<br>\n",
    "GTAGGCTTAAGGTTA<br>\n",
    "TAGATA<br>\n",
    "Output: A highest-scoring fitting alignment of v and w as defined by the scoring matrix Score.<br>\n",
    "2<br>\n",
    "TAGGCTTA<br>\n",
    "TAGA--TA"
   ]
  },
  {
   "cell_type": "code",
   "execution_count": 320,
   "metadata": {},
   "outputs": [
    {
     "name": "stdout",
     "output_type": "stream",
     "text": [
      "[[ 0. -1. -2. -3. -4. -5. -6.]\n",
      " [ 0. -1. -2. -1. -2. -3. -4.]\n",
      " [ 0.  1.  0. -1. -2. -1. -2.]\n",
      " [ 0.  0.  2.  1.  0. -1.  0.]\n",
      " [ 0. -1.  1.  3.  2.  1.  0.]\n",
      " [ 0. -1.  0.  2.  2.  1.  0.]\n",
      " [ 0. -1. -1.  1.  1.  1.  0.]\n",
      " [ 0.  1.  0.  0.  0.  2.  1.]\n",
      " [ 0.  1.  0. -1. -1.  1.  1.]\n",
      " [ 0.  0.  2.  1.  0.  0.  2.]\n",
      " [ 0. -1.  1.  1.  2.  1.  1.]\n",
      " [ 0. -1.  0.  2.  1.  1.  0.]\n",
      " [ 0. -1. -1.  1.  1.  0.  0.]\n",
      " [ 0.  1.  0.  0.  0.  2.  1.]\n",
      " [ 0.  1.  0. -1. -1.  1.  1.]\n",
      " [ 0.  0.  2.  1.  0.  0.  2.]]\n",
      "[[0. 0. 0. 0. 0. 0. 0.]\n",
      " [0. 2. 2. 3. 2. 2. 2.]\n",
      " [0. 3. 2. 2. 2. 3. 2.]\n",
      " [0. 1. 3. 2. 2. 2. 3.]\n",
      " [0. 1. 1. 3. 2. 2. 2.]\n",
      " [0. 2. 1. 1. 3. 2. 2.]\n",
      " [0. 2. 1. 1. 1. 3. 2.]\n",
      " [0. 3. 2. 1. 1. 3. 2.]\n",
      " [0. 3. 2. 1. 1. 1. 3.]\n",
      " [0. 1. 3. 2. 2. 1. 3.]\n",
      " [0. 1. 1. 3. 3. 2. 1.]\n",
      " [0. 2. 1. 3. 1. 3. 1.]\n",
      " [0. 2. 1. 1. 3. 1. 3.]\n",
      " [0. 3. 2. 1. 1. 3. 2.]\n",
      " [0. 3. 2. 1. 1. 1. 3.]\n",
      " [0. 1. 3. 2. 2. 1. 3.]]\n",
      "('na', 'na')\n",
      "13\n",
      "GTAAGGTTA\n",
      "-TA-GAT-A\n"
     ]
    }
   ],
   "source": [
    "def local_backtrack_lcs(v, w, indel_penalty):\n",
    "    s = numpy.zeros(shape = (len(v)+1,len(w)+1))\n",
    "    local_backtrack = numpy.zeros(shape = (len(v)+1,len(w)+1))\n",
    "    #for i in range(len(v)+1):\n",
    "    #    s[i,0] = -i*indel_penalty\n",
    "    for j in range(len(w)+1):\n",
    "        s[0,j] = -j*indel_penalty\n",
    "    for i in range(1,len(v)+1):\n",
    "        for j in range(1,len(w)+1):\n",
    "            if v[i-1] == w[j-1]:\n",
    "                mutation_penalty = 1\n",
    "            else:\n",
    "                mutation_penalty = -1\n",
    "            options = [s[i-1,j] - indel_penalty, s[i,j-1] - indel_penalty, s[i-1,j-1] + mutation_penalty]\n",
    "            s[i,j] = max(options)\n",
    "            local_backtrack[i,j] = options.index(s[i,j]) + 1    #1 for up, 2 for left, 3 for diagonally, #4 for origin\n",
    "            #4 means free ride from origin to somewhere\n",
    "    #solve the bottom right cell of s and local_backtrack\n",
    "    s[-1,-1] = 0\n",
    "    k = len(v)\n",
    "    l = len(w)\n",
    "    if v[k-1] == w[l-1]:\n",
    "        mutation_penalty = 1\n",
    "    else:\n",
    "        mutation_penalty = -1\n",
    "    options = [s[k-1,l] - indel_penalty, s[k,l-1] - indel_penalty, s[k-1,l-1] + mutation_penalty]\n",
    "    extra_options = list(s[:,-1][:-1])\n",
    "    if max(extra_options) > max(options):\n",
    "        #free ride back to max_index\n",
    "        max_value = max(extra_options)\n",
    "        max_index = (extra_options.index(max_value),-1)\n",
    "        s[k,l] = max_value\n",
    "        local_backtrack[k,l] = 5 #5 for free ride to sink from max_index\n",
    "    else:\n",
    "        #back one step\n",
    "        max_value = max(options) \n",
    "        max_index = ('na','na')\n",
    "        s[k,l] = max_value\n",
    "        local_backtrack[k,l] = max_value + 1 #1 for up, 2 for left, 3 for diagonally\n",
    "    print(s)\n",
    "    print(local_backtrack)\n",
    "    print(max_index)\n",
    "    return local_backtrack, max_index\n",
    "\n",
    "def local_output_lcs(local_backtrack, v, w, v_out, w_out, i, j, score, free_ride_to_end_position):\n",
    "    if i == 0 or j == 0:\n",
    "        if i == 0 and j != 0:\n",
    "            v_out = v_out + w[0]\n",
    "            w_out = w_out + '-'\n",
    "            score = score - indel_penalty\n",
    "            print(score)\n",
    "        if i != 0 and j == 0:\n",
    "            v_out = v_out + '-'\n",
    "            w_out = w_out + v[0]\n",
    "            score = score - indel_penalty\n",
    "            print(score)\n",
    "        if i == 0 and j == 0:\n",
    "            print(score)\n",
    "        print(w_out[::-1])\n",
    "        print(v_out[::-1])\n",
    "        return\n",
    "    if local_backtrack[i,j] == 1:\n",
    "        v_out = v_out + '-'\n",
    "        w_out = w_out + v[i-1]\n",
    "        score = score - indel_penalty\n",
    "        local_output_lcs(local_backtrack, v, w, v_out, w_out, i-1, j, score, free_ride_to_end_position)\n",
    "    elif local_backtrack[i,j] == 2:\n",
    "        v_out = v_out + w[j-1]\n",
    "        w_out = w_out + '-'\n",
    "        score = score - indel_penalty\n",
    "        local_output_lcs(local_backtrack, v, w, v_out, w_out, i, j-1, score, free_ride_to_end_position)\n",
    "    elif local_backtrack[i,j] == 3:\n",
    "        v_out = v_out + w[j-1]\n",
    "        w_out = w_out + v[i-1]\n",
    "        score += matrix[v[i-1]][w[j-1]]\n",
    "        local_output_lcs(local_backtrack, v, w, v_out, w_out, i-1, j-1, score, free_ride_to_end_position)\n",
    "    elif local_backtrack[i,j] == 4:\n",
    "        local_output_lcs(local_backtrack, v, w, v_out, w_out, 0, 0, score, free_ride_to_end_position)\n",
    "    elif local_backtrack[i,j] == 5:\n",
    "        i = free_ride_to_end_position[0]\n",
    "        j = free_ride_to_end_position[1]\n",
    "        local_output_lcs(local_backtrack, v, w, v_out, w_out, i, j, score, free_ride_to_end_position)\n",
    "        \n",
    "\n",
    "indel_penalty = 1\n",
    "s = 'GTAGGCTTAAGGTTA'\n",
    "t = 'TAGATA'\n",
    "s_out = ''\n",
    "t_out = ''\n",
    "score = 0\n",
    "local_backtrack_function_output = local_backtrack_lcs(s,t,indel_penalty)\n",
    "local_backtrack = local_backtrack_function_output[0]\n",
    "free_ride_to_end_position = local_backtrack_function_output[1]\n",
    "local_output_lcs(local_backtrack, s, t, s_out, t_out, len(s),len(t), score, free_ride_to_end_position)"
   ]
  },
  {
   "cell_type": "code",
   "execution_count": 310,
   "metadata": {},
   "outputs": [
    {
     "name": "stdout",
     "output_type": "stream",
     "text": [
      "[[ 1  2  3]\n",
      " [ 4  5  6]\n",
      " [10 12 11]\n",
      " [ 7  8  9]]\n",
      "[3, 6, 11, 9]\n",
      "2\n"
     ]
    }
   ],
   "source": [
    "a=numpy.array([[1,2,3],[4,5,6],[10,12,11],[7,8,9]])\n",
    "print(a)\n",
    "a_slice = list(a[:,-1])\n",
    "print(a_slice)\n",
    "max_index = list(a[-1:][0]).index(max(list(a[-1:][0])))\n",
    "\n",
    "print(max_index)"
   ]
  },
  {
   "cell_type": "code",
   "execution_count": null,
   "metadata": {},
   "outputs": [],
   "source": []
  }
 ],
 "metadata": {
  "kernelspec": {
   "display_name": "Python 3",
   "language": "python",
   "name": "python3"
  },
  "language_info": {
   "codemirror_mode": {
    "name": "ipython",
    "version": 3
   },
   "file_extension": ".py",
   "mimetype": "text/x-python",
   "name": "python",
   "nbconvert_exporter": "python",
   "pygments_lexer": "ipython3",
   "version": "3.6.4"
  }
 },
 "nbformat": 4,
 "nbformat_minor": 2
}
