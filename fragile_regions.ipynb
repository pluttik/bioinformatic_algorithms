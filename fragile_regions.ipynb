{
 "cells": [
  {
   "cell_type": "markdown",
   "metadata": {},
   "source": [
    "This jupyter notebook belongs to 'Bioinformatics Algorithms chapter 4: Are there fragile regions in the human genome?'"
   ]
  },
  {
   "cell_type": "markdown",
   "metadata": {},
   "source": [
    "Exercise: How many signed (+ or -) permutations of length 7 are there?"
   ]
  },
  {
   "cell_type": "code",
   "execution_count": 1,
   "metadata": {},
   "outputs": [
    {
     "name": "stdout",
     "output_type": "stream",
     "text": [
      "645120\n"
     ]
    }
   ],
   "source": [
    "import math\n",
    "\n",
    "answer = math.factorial(7) * (2 ** 7)\n",
    "print(answer)"
   ]
  },
  {
   "cell_type": "markdown",
   "metadata": {},
   "source": [
    "Exercise: How many different reversals can be applied to a permutation of length 100?<br>\n",
    "(This means how many combinations of 2 from 100)"
   ]
  },
  {
   "cell_type": "code",
   "execution_count": 4,
   "metadata": {},
   "outputs": [
    {
     "name": "stdout",
     "output_type": "stream",
     "text": [
      "5050\n"
     ]
    }
   ],
   "source": [
    "import math\n",
    "\n",
    "answer = 0\n",
    "for i in range(100 + 1):\n",
    "    answer += i\n",
    "print(answer)"
   ]
  },
  {
   "cell_type": "markdown",
   "metadata": {},
   "source": [
    "GreedySorting.<br>\n",
    "Input: A permutation P.<br>\n",
    "Sample input:<br>\n",
    "(-3 +4 +1 +5 -2)<br>\n",
    "Output: The sequence of permutations corresponding to applying GreedySorting to P, ending with the identity permutation.<br>\n",
    "Sample output:<br>\n",
    "(-1 -4 +3 +5 -2)<br>\n",
    "(+1 -4 +3 +5 -2)<br>\n",
    "(+1 +2 -5 -3 +4)<br>\n",
    "(+1 +2 +3 +5 +4)<br>\n",
    "(+1 +2 +3 -4 -5)<br>\n",
    "(+1 +2 +3 +4 -5)<br>\n",
    "(+1 +2 +3 +4 +5)"
   ]
  },
  {
   "cell_type": "code",
   "execution_count": 26,
   "metadata": {},
   "outputs": [
    {
     "name": "stdout",
     "output_type": "stream",
     "text": [
      "(-1 -15 +16 +4 -2 +14 +6 +8 -18 -13 -11 -9 -10 -7 -20 +17 +12 -5 +3 -19)\n",
      "(+1 -15 +16 +4 -2 +14 +6 +8 -18 -13 -11 -9 -10 -7 -20 +17 +12 -5 +3 -19)\n",
      "(+1 +2 -4 -16 +15 +14 +6 +8 -18 -13 -11 -9 -10 -7 -20 +17 +12 -5 +3 -19)\n",
      "(+1 +2 -3 +5 -12 -17 +20 +7 +10 +9 +11 +13 +18 -8 -6 -14 -15 +16 +4 -19)\n",
      "(+1 +2 +3 +5 -12 -17 +20 +7 +10 +9 +11 +13 +18 -8 -6 -14 -15 +16 +4 -19)\n",
      "(+1 +2 +3 -4 -16 +15 +14 +6 +8 -18 -13 -11 -9 -10 -7 -20 +17 +12 -5 -19)\n",
      "(+1 +2 +3 +4 -16 +15 +14 +6 +8 -18 -13 -11 -9 -10 -7 -20 +17 +12 -5 -19)\n",
      "(+1 +2 +3 +4 +5 -12 -17 +20 +7 +10 +9 +11 +13 +18 -8 -6 -14 -15 +16 -19)\n",
      "(+1 +2 +3 +4 +5 +6 +8 -18 -13 -11 -9 -10 -7 -20 +17 +12 -14 -15 +16 -19)\n",
      "(+1 +2 +3 +4 +5 +6 +7 +10 +9 +11 +13 +18 -8 -20 +17 +12 -14 -15 +16 -19)\n",
      "(+1 +2 +3 +4 +5 +6 +7 +8 -18 -13 -11 -9 -10 -20 +17 +12 -14 -15 +16 -19)\n",
      "(+1 +2 +3 +4 +5 +6 +7 +8 +9 +11 +13 +18 -10 -20 +17 +12 -14 -15 +16 -19)\n",
      "(+1 +2 +3 +4 +5 +6 +7 +8 +9 +10 -18 -13 -11 -20 +17 +12 -14 -15 +16 -19)\n",
      "(+1 +2 +3 +4 +5 +6 +7 +8 +9 +10 +11 +13 +18 -20 +17 +12 -14 -15 +16 -19)\n",
      "(+1 +2 +3 +4 +5 +6 +7 +8 +9 +10 +11 -12 -17 +20 -18 -13 -14 -15 +16 -19)\n",
      "(+1 +2 +3 +4 +5 +6 +7 +8 +9 +10 +11 +12 -17 +20 -18 -13 -14 -15 +16 -19)\n",
      "(+1 +2 +3 +4 +5 +6 +7 +8 +9 +10 +11 +12 +13 +18 -20 +17 -14 -15 +16 -19)\n",
      "(+1 +2 +3 +4 +5 +6 +7 +8 +9 +10 +11 +12 +13 +14 -17 +20 -18 -15 +16 -19)\n",
      "(+1 +2 +3 +4 +5 +6 +7 +8 +9 +10 +11 +12 +13 +14 +15 +18 -20 +17 +16 -19)\n",
      "(+1 +2 +3 +4 +5 +6 +7 +8 +9 +10 +11 +12 +13 +14 +15 -16 -17 +20 -18 -19)\n",
      "(+1 +2 +3 +4 +5 +6 +7 +8 +9 +10 +11 +12 +13 +14 +15 +16 -17 +20 -18 -19)\n",
      "(+1 +2 +3 +4 +5 +6 +7 +8 +9 +10 +11 +12 +13 +14 +15 +16 +17 +20 -18 -19)\n",
      "(+1 +2 +3 +4 +5 +6 +7 +8 +9 +10 +11 +12 +13 +14 +15 +16 +17 +18 -20 -19)\n",
      "(+1 +2 +3 +4 +5 +6 +7 +8 +9 +10 +11 +12 +13 +14 +15 +16 +17 +18 +19 +20)\n"
     ]
    },
    {
     "data": {
      "text/plain": [
       "24"
      ]
     },
     "execution_count": 26,
     "metadata": {},
     "output_type": "execute_result"
    }
   ],
   "source": [
    "def greedy_sorting(P):\n",
    "    P = P.replace('(','')\n",
    "    P = P.replace(')','')\n",
    "    permutation = P.split(' ')\n",
    "    approx_reversal_distance = 0\n",
    "    for k in range(1, len(permutation) + 1):\n",
    "        element = permutation[k-1]\n",
    "        sign = permutation[k-1][0]\n",
    "        number = int(permutation[k-1][1:])\n",
    "        #if element k is not sorted\n",
    "        if number != k:\n",
    "            #apply k-sorting reversal to P\n",
    "            try:\n",
    "                chunk_to_reverse = permutation[k-1:permutation.index('-' + str(k)) + 1]\n",
    "            except:\n",
    "                chunk_to_reverse = permutation[k-1:permutation.index('+' + str(k)) + 1]\n",
    "            chunk = chunk_to_reverse[::-1]\n",
    "            for i in range(len(chunk)):\n",
    "                if chunk[i][0] == '-':\n",
    "                    chunk[i] = '+' + chunk[i][1:]\n",
    "                else:\n",
    "                    chunk[i] = '-' + chunk[i][1:]\n",
    "            new_permutation = permutation[:k-1] + chunk + permutation[permutation.index(chunk_to_reverse[-1]) + 1:]\n",
    "            permutation = new_permutation\n",
    "            print('(' +  ' '.join(permutation) + ')')\n",
    "            approx_reversal_distance += 1\n",
    "        #if k-th element of P is -k\n",
    "        element = permutation[k-1]\n",
    "        sign = permutation[k-1][0]\n",
    "        number = int(permutation[k-1][1:])\n",
    "        if int(element) == -1 * k:\n",
    "            #apply k-sorting reversal to P\n",
    "            try:\n",
    "                chunk_to_reverse = permutation[k-1:permutation.index('-' + str(k)) + 1]\n",
    "            except:\n",
    "                chunk_to_reverse = permutation[k-1:permutation.index('+' + str(k)) + 1]\n",
    "            chunk = chunk_to_reverse[::-1]\n",
    "            for i in range(len(chunk)):\n",
    "                if chunk[i][0] == '-':\n",
    "                    chunk[i] = '+' + chunk[i][1:]\n",
    "                else:\n",
    "                    chunk[i] = '-' + chunk[i][1:]\n",
    "            new_permutation = permutation[:k-1] + chunk + permutation[permutation.index(chunk_to_reverse[-1]) + 1:]\n",
    "            permutation = new_permutation\n",
    "            print('(' +  ' '.join(permutation) + ')')\n",
    "            approx_reversal_distance += 1\n",
    "    return approx_reversal_distance\n",
    "\n",
    "greedy_sorting('(+20 +7 +10 +9 +11 +13 +18 -8 -6 -14 +2 -4 -16 +15 +1 +17 +12 -5 +3 -19)')"
   ]
  },
  {
   "cell_type": "markdown",
   "metadata": {},
   "source": [
    "Exercise: How many permutations of length 200 have exactly 199 adjacencies?"
   ]
  },
  {
   "cell_type": "code",
   "execution_count": 6,
   "metadata": {},
   "outputs": [
    {
     "name": "stdout",
     "output_type": "stream",
     "text": [
      "20100\n"
     ]
    }
   ],
   "source": [
    "#pick two breakpoints from 201 points\n",
    "n = 200\n",
    "answer = 0\n",
    "for i in range(n+1):\n",
    "    answer = answer + (i);\n",
    "print(answer)"
   ]
  },
  {
   "cell_type": "markdown",
   "metadata": {},
   "source": [
    "Number of Breakpoints Problem: Find the number of breakpoints in a permutation.<br>\n",
    "Input: A permutation.<br>\n",
    "Sample input:<br>\n",
    "(+3 +4 +5 -12 -8 -7 -6 +1 +2 +10 +9 -11 +13 +14)<br>\n",
    "Output: The number of breakpoints in this permutation.<br>\n",
    "8"
   ]
  },
  {
   "cell_type": "code",
   "execution_count": 27,
   "metadata": {},
   "outputs": [
    {
     "data": {
      "text/plain": [
       "18"
      ]
     },
     "execution_count": 27,
     "metadata": {},
     "output_type": "execute_result"
    }
   ],
   "source": [
    "def breakpoint_number(P):\n",
    "    P = P.replace('(','')\n",
    "    P = P.replace(')','')\n",
    "    permutation = P.split(' ')\n",
    "    breakpoint_number = 0\n",
    "    previousP = 0\n",
    "    for k in range(1, len(permutation) + 2):\n",
    "        try:\n",
    "            number = int(permutation[k-1][0:])\n",
    "        except: #account for a possible breakpoint after the last point\n",
    "            number = len(permutation) + 1\n",
    "        if number != previousP + 1:\n",
    "            breakpoint_number += 1\n",
    "        previousP = number\n",
    "    return breakpoint_number\n",
    "\n",
    "breakpoint_number('(+6 -12 -9 +17 +18 -4 +5 -3 +11 +19 +20 +10 +8 +15 -14 -13 +2 +7 -16 -1)')"
   ]
  },
  {
   "cell_type": "markdown",
   "metadata": {},
   "source": [
    "Exercise: How many permutations of length 10 have the property that no reversal applied to P decreases Breakpoints(P)?"
   ]
  },
  {
   "cell_type": "code",
   "execution_count": 24,
   "metadata": {},
   "outputs": [
    {
     "data": {
      "text/plain": [
       "3628800"
      ]
     },
     "execution_count": 24,
     "metadata": {},
     "output_type": "execute_result"
    }
   ],
   "source": [
    "import math\n",
    "math.factorial(10)"
   ]
  },
  {
   "cell_type": "code",
   "execution_count": null,
   "metadata": {},
   "outputs": [],
   "source": []
  }
 ],
 "metadata": {
  "kernelspec": {
   "display_name": "Python 3",
   "language": "python",
   "name": "python3"
  },
  "language_info": {
   "codemirror_mode": {
    "name": "ipython",
    "version": 3
   },
   "file_extension": ".py",
   "mimetype": "text/x-python",
   "name": "python",
   "nbconvert_exporter": "python",
   "pygments_lexer": "ipython3",
   "version": "3.6.4"
  }
 },
 "nbformat": 4,
 "nbformat_minor": 2
}
