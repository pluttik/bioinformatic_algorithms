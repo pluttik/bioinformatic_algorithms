{
 "cells": [
  {
   "cell_type": "markdown",
   "metadata": {},
   "source": [
    "This jupyter notebook belongs to 'Bioinformatics Algorithms chapter 4: Are there fragile regions in the human genome?'"
   ]
  },
  {
   "cell_type": "markdown",
   "metadata": {},
   "source": [
    "Exercise: How many signed (+ or -) permutations of length 7 are there?"
   ]
  },
  {
   "cell_type": "code",
   "execution_count": 1,
   "metadata": {},
   "outputs": [
    {
     "name": "stdout",
     "output_type": "stream",
     "text": [
      "645120\n"
     ]
    }
   ],
   "source": [
    "import math\n",
    "\n",
    "answer = math.factorial(7) * (2 ** 7)\n",
    "print(answer)"
   ]
  },
  {
   "cell_type": "markdown",
   "metadata": {},
   "source": [
    "Exercise: How many different reversals can be applied to a permutation of length 100?<br>\n",
    "(This means how many combinations of 2 from 100)"
   ]
  },
  {
   "cell_type": "code",
   "execution_count": 4,
   "metadata": {},
   "outputs": [
    {
     "name": "stdout",
     "output_type": "stream",
     "text": [
      "5050\n"
     ]
    }
   ],
   "source": [
    "import math\n",
    "\n",
    "answer = 0\n",
    "for i in range(100 + 1):\n",
    "    answer += i\n",
    "print(answer)"
   ]
  },
  {
   "cell_type": "markdown",
   "metadata": {},
   "source": [
    "GreedySorting.<br>\n",
    "Input: A permutation P.<br>\n",
    "Sample input:<br>\n",
    "(-3 +4 +1 +5 -2)<br>\n",
    "Output: The sequence of permutations corresponding to applying GreedySorting to P, ending with the identity permutation.<br>\n",
    "Sample output:<br>\n",
    "(-1 -4 +3 +5 -2)<br>\n",
    "(+1 -4 +3 +5 -2)<br>\n",
    "(+1 +2 -5 -3 +4)<br>\n",
    "(+1 +2 +3 +5 +4)<br>\n",
    "(+1 +2 +3 -4 -5)<br>\n",
    "(+1 +2 +3 +4 -5)<br>\n",
    "(+1 +2 +3 +4 +5)"
   ]
  },
  {
   "cell_type": "code",
   "execution_count": 26,
   "metadata": {},
   "outputs": [
    {
     "name": "stdout",
     "output_type": "stream",
     "text": [
      "(-1 -15 +16 +4 -2 +14 +6 +8 -18 -13 -11 -9 -10 -7 -20 +17 +12 -5 +3 -19)\n",
      "(+1 -15 +16 +4 -2 +14 +6 +8 -18 -13 -11 -9 -10 -7 -20 +17 +12 -5 +3 -19)\n",
      "(+1 +2 -4 -16 +15 +14 +6 +8 -18 -13 -11 -9 -10 -7 -20 +17 +12 -5 +3 -19)\n",
      "(+1 +2 -3 +5 -12 -17 +20 +7 +10 +9 +11 +13 +18 -8 -6 -14 -15 +16 +4 -19)\n",
      "(+1 +2 +3 +5 -12 -17 +20 +7 +10 +9 +11 +13 +18 -8 -6 -14 -15 +16 +4 -19)\n",
      "(+1 +2 +3 -4 -16 +15 +14 +6 +8 -18 -13 -11 -9 -10 -7 -20 +17 +12 -5 -19)\n",
      "(+1 +2 +3 +4 -16 +15 +14 +6 +8 -18 -13 -11 -9 -10 -7 -20 +17 +12 -5 -19)\n",
      "(+1 +2 +3 +4 +5 -12 -17 +20 +7 +10 +9 +11 +13 +18 -8 -6 -14 -15 +16 -19)\n",
      "(+1 +2 +3 +4 +5 +6 +8 -18 -13 -11 -9 -10 -7 -20 +17 +12 -14 -15 +16 -19)\n",
      "(+1 +2 +3 +4 +5 +6 +7 +10 +9 +11 +13 +18 -8 -20 +17 +12 -14 -15 +16 -19)\n",
      "(+1 +2 +3 +4 +5 +6 +7 +8 -18 -13 -11 -9 -10 -20 +17 +12 -14 -15 +16 -19)\n",
      "(+1 +2 +3 +4 +5 +6 +7 +8 +9 +11 +13 +18 -10 -20 +17 +12 -14 -15 +16 -19)\n",
      "(+1 +2 +3 +4 +5 +6 +7 +8 +9 +10 -18 -13 -11 -20 +17 +12 -14 -15 +16 -19)\n",
      "(+1 +2 +3 +4 +5 +6 +7 +8 +9 +10 +11 +13 +18 -20 +17 +12 -14 -15 +16 -19)\n",
      "(+1 +2 +3 +4 +5 +6 +7 +8 +9 +10 +11 -12 -17 +20 -18 -13 -14 -15 +16 -19)\n",
      "(+1 +2 +3 +4 +5 +6 +7 +8 +9 +10 +11 +12 -17 +20 -18 -13 -14 -15 +16 -19)\n",
      "(+1 +2 +3 +4 +5 +6 +7 +8 +9 +10 +11 +12 +13 +18 -20 +17 -14 -15 +16 -19)\n",
      "(+1 +2 +3 +4 +5 +6 +7 +8 +9 +10 +11 +12 +13 +14 -17 +20 -18 -15 +16 -19)\n",
      "(+1 +2 +3 +4 +5 +6 +7 +8 +9 +10 +11 +12 +13 +14 +15 +18 -20 +17 +16 -19)\n",
      "(+1 +2 +3 +4 +5 +6 +7 +8 +9 +10 +11 +12 +13 +14 +15 -16 -17 +20 -18 -19)\n",
      "(+1 +2 +3 +4 +5 +6 +7 +8 +9 +10 +11 +12 +13 +14 +15 +16 -17 +20 -18 -19)\n",
      "(+1 +2 +3 +4 +5 +6 +7 +8 +9 +10 +11 +12 +13 +14 +15 +16 +17 +20 -18 -19)\n",
      "(+1 +2 +3 +4 +5 +6 +7 +8 +9 +10 +11 +12 +13 +14 +15 +16 +17 +18 -20 -19)\n",
      "(+1 +2 +3 +4 +5 +6 +7 +8 +9 +10 +11 +12 +13 +14 +15 +16 +17 +18 +19 +20)\n"
     ]
    },
    {
     "data": {
      "text/plain": [
       "24"
      ]
     },
     "execution_count": 26,
     "metadata": {},
     "output_type": "execute_result"
    }
   ],
   "source": [
    "def greedy_sorting(P):\n",
    "    P = P.replace('(','')\n",
    "    P = P.replace(')','')\n",
    "    permutation = P.split(' ')\n",
    "    approx_reversal_distance = 0\n",
    "    for k in range(1, len(permutation) + 1):\n",
    "        element = permutation[k-1]\n",
    "        sign = permutation[k-1][0]\n",
    "        number = int(permutation[k-1][1:])\n",
    "        #if element k is not sorted\n",
    "        if number != k:\n",
    "            #apply k-sorting reversal to P\n",
    "            try:\n",
    "                chunk_to_reverse = permutation[k-1:permutation.index('-' + str(k)) + 1]\n",
    "            except:\n",
    "                chunk_to_reverse = permutation[k-1:permutation.index('+' + str(k)) + 1]\n",
    "            chunk = chunk_to_reverse[::-1]\n",
    "            for i in range(len(chunk)):\n",
    "                if chunk[i][0] == '-':\n",
    "                    chunk[i] = '+' + chunk[i][1:]\n",
    "                else:\n",
    "                    chunk[i] = '-' + chunk[i][1:]\n",
    "            new_permutation = permutation[:k-1] + chunk + permutation[permutation.index(chunk_to_reverse[-1]) + 1:]\n",
    "            permutation = new_permutation\n",
    "            print('(' +  ' '.join(permutation) + ')')\n",
    "            approx_reversal_distance += 1\n",
    "        #if k-th element of P is -k\n",
    "        element = permutation[k-1]\n",
    "        sign = permutation[k-1][0]\n",
    "        number = int(permutation[k-1][1:])\n",
    "        if int(element) == -1 * k:\n",
    "            #apply k-sorting reversal to P\n",
    "            try:\n",
    "                chunk_to_reverse = permutation[k-1:permutation.index('-' + str(k)) + 1]\n",
    "            except:\n",
    "                chunk_to_reverse = permutation[k-1:permutation.index('+' + str(k)) + 1]\n",
    "            chunk = chunk_to_reverse[::-1]\n",
    "            for i in range(len(chunk)):\n",
    "                if chunk[i][0] == '-':\n",
    "                    chunk[i] = '+' + chunk[i][1:]\n",
    "                else:\n",
    "                    chunk[i] = '-' + chunk[i][1:]\n",
    "            new_permutation = permutation[:k-1] + chunk + permutation[permutation.index(chunk_to_reverse[-1]) + 1:]\n",
    "            permutation = new_permutation\n",
    "            print('(' +  ' '.join(permutation) + ')')\n",
    "            approx_reversal_distance += 1\n",
    "    return approx_reversal_distance\n",
    "\n",
    "greedy_sorting('(+20 +7 +10 +9 +11 +13 +18 -8 -6 -14 +2 -4 -16 +15 +1 +17 +12 -5 +3 -19)')"
   ]
  },
  {
   "cell_type": "markdown",
   "metadata": {},
   "source": [
    "Exercise: How many permutations of length 200 have exactly 199 adjacencies?"
   ]
  },
  {
   "cell_type": "code",
   "execution_count": 6,
   "metadata": {},
   "outputs": [
    {
     "name": "stdout",
     "output_type": "stream",
     "text": [
      "20100\n"
     ]
    }
   ],
   "source": [
    "#pick two breakpoints from 201 points\n",
    "n = 200\n",
    "answer = 0\n",
    "for i in range(n+1):\n",
    "    answer = answer + (i);\n",
    "print(answer)"
   ]
  },
  {
   "cell_type": "markdown",
   "metadata": {},
   "source": [
    "Number of Breakpoints Problem: Find the number of breakpoints in a permutation.<br>\n",
    "Input: A permutation.<br>\n",
    "Sample input:<br>\n",
    "(+3 +4 +5 -12 -8 -7 -6 +1 +2 +10 +9 -11 +13 +14)<br>\n",
    "Output: The number of breakpoints in this permutation.<br>\n",
    "8"
   ]
  },
  {
   "cell_type": "code",
   "execution_count": 27,
   "metadata": {},
   "outputs": [
    {
     "data": {
      "text/plain": [
       "18"
      ]
     },
     "execution_count": 27,
     "metadata": {},
     "output_type": "execute_result"
    }
   ],
   "source": [
    "def breakpoint_number(P):\n",
    "    P = P.replace('(','')\n",
    "    P = P.replace(')','')\n",
    "    permutation = P.split(' ')\n",
    "    breakpoint_number = 0\n",
    "    previousP = 0\n",
    "    for k in range(1, len(permutation) + 2):\n",
    "        try:\n",
    "            number = int(permutation[k-1][0:])\n",
    "        except: #account for a possible breakpoint after the last point\n",
    "            number = len(permutation) + 1\n",
    "        if number != previousP + 1:\n",
    "            breakpoint_number += 1\n",
    "        previousP = number\n",
    "    return breakpoint_number\n",
    "\n",
    "breakpoint_number('(+6 -12 -9 +17 +18 -4 +5 -3 +11 +19 +20 +10 +8 +15 -14 -13 +2 +7 -16 -1)')"
   ]
  },
  {
   "cell_type": "markdown",
   "metadata": {},
   "source": [
    "Exercise: How many permutations of length 10 have the property that no reversal applied to P decreases Breakpoints(P)?"
   ]
  },
  {
   "cell_type": "code",
   "execution_count": 24,
   "metadata": {},
   "outputs": [
    {
     "data": {
      "text/plain": [
       "3628800"
      ]
     },
     "execution_count": 24,
     "metadata": {},
     "output_type": "execute_result"
    }
   ],
   "source": [
    "import math\n",
    "math.factorial(10)"
   ]
  },
  {
   "cell_type": "markdown",
   "metadata": {},
   "source": [
    "ChromosomeToCycle.<br>\n",
    "Input: A chromosome Chromosome containing n synteny blocks.<br>\n",
    "Sample input:<br>\n",
    "(+1 -2 -3 +4)<br>\n",
    "Output: The sequence Nodes of integers between 1 and 2n resulting from applying ChromosomeToCycle to Chromosome.<br>\n",
    "Sample output:<br>\n",
    "(1 2 4 3 6 5 7 8)"
   ]
  },
  {
   "cell_type": "code",
   "execution_count": 84,
   "metadata": {},
   "outputs": [
    {
     "data": {
      "text/plain": [
       "'(2 1 4 3 5 6 8 7 10 9 11 12 13 14 15 16 17 18 19 20 21 22 24 23 26 25 27 28 29 30 32 31 34 33 35 36 38 37 39 40 41 42 44 43 45 46 47 48 50 49 51 52 54 53 56 55 57 58 60 59 61 62 64 63 66 65 67 68 69 70 72 71 73 74 76 75 77 78 80 79 81 82 84 83 85 86 88 87 89 90 92 91 93 94 96 95 97 98 100 99 101 102 104 103 105 106 107 108 109 110 111 112 114 113 116 115 118 117 119 120 121 122 123 124 126 125 128 127 130 129 132 131 134 133)'"
      ]
     },
     "execution_count": 84,
     "metadata": {},
     "output_type": "execute_result"
    }
   ],
   "source": [
    "def chromosome_to_cycle(chromosome):\n",
    "    chromosome = chromosome.replace('(','')\n",
    "    chromosome = chromosome.replace(')','')\n",
    "    chromosome = chromosome.split(' ')\n",
    "    nodes = []\n",
    "    for j in range(1,len(chromosome)+1):\n",
    "        i = int(chromosome[j-1])\n",
    "        if i > 0:\n",
    "            nodes.append(2*i - 1)\n",
    "            nodes.append(2*i)\n",
    "        else:\n",
    "            nodes.append(-2*i)\n",
    "            nodes.append(-2*i - 1)\n",
    "    return '(' + ' '.join(str(x) for x in nodes) + ')'\n",
    "\n",
    "chromosome_to_cycle('(-1 -2 +3 -4 -5 +6 +7 +8 +9 +10 +11 -12 -13 +14 +15 -16 -17 +18 -19 +20 +21 -22 +23 +24 -25 +26 -27 -28 +29 -30 +31 -32 -33 +34 +35 -36 +37 -38 +39 -40 +41 -42 +43 -44 +45 -46 +47 -48 +49 -50 +51 -52 +53 +54 +55 +56 -57 -58 -59 +60 +61 +62 -63 -64 -65 -66 -67)')"
   ]
  },
  {
   "cell_type": "markdown",
   "metadata": {},
   "source": [
    "CycleToChromosome.<br>\n",
    "Input: A sequence Nodes of integers between 1 and 2n.<br>\n",
    "Sample input:<br>\n",
    "(1 2 4 3 6 5 7 8)<br>\n",
    "Output: The chromosome Chromosome containing n synteny blocks resulting from applying CycleToChromosome to Nodes.<br>\n",
    "Sample output:<br>\n",
    "(+1 -2 -3 +4)"
   ]
  },
  {
   "cell_type": "code",
   "execution_count": 74,
   "metadata": {},
   "outputs": [
    {
     "data": {
      "text/plain": [
       "'(+5 +5 -6)'"
      ]
     },
     "execution_count": 74,
     "metadata": {},
     "output_type": "execute_result"
    }
   ],
   "source": [
    "def cycle_to_chromosome(nodes):\n",
    "    nodes = nodes.replace('(','')\n",
    "    nodes = nodes.replace(')','')\n",
    "    nodes = nodes.split(' ')\n",
    "    chromosome = []\n",
    "    for j in range(1,(int(len(nodes)/2)+1)):\n",
    "        if int(nodes[(2*(j)-1)-1]) < int(nodes[(2*(j))-1]):\n",
    "            new_node = int(nodes[2*(j)-1])/2\n",
    "            chromosome.append('+' + str(int(new_node)))\n",
    "        else:\n",
    "            new_node = -int(nodes[(2*(j)-1)-1])/2\n",
    "            chromosome.append(str(int(new_node)))\n",
    "    return '('  + ' '.join(chromosome) + ')'\n",
    "    \n",
    "cycle_to_chromosome('(9 11 8 10 12 7)') #should be 9 10 12 11 8 7"
   ]
  },
  {
   "cell_type": "markdown",
   "metadata": {},
   "source": [
    "ColoredEdges.<br>\n",
    "Input: A genome P.<br>\n",
    "Sample input:<br>\n",
    "(+1 -2 -3)(+4 +5 -6)<br>\n",
    "Output: The collection of colored edges in the genome graph of P in the form (x, y).<br>\n",
    "Sample output:<br>\n",
    "(2, 4), (3, 6), (5, 1), (8, 9), (10, 12), (11, 7)"
   ]
  },
  {
   "cell_type": "code",
   "execution_count": 85,
   "metadata": {},
   "outputs": [
    {
     "data": {
      "text/plain": [
       "[[2, 3],\n",
       " [4, 5],\n",
       " [6, 7],\n",
       " [8, 9],\n",
       " [10, 12],\n",
       " [11, 14],\n",
       " [13, 16],\n",
       " [15, 18],\n",
       " [17, 20],\n",
       " [19, 22],\n",
       " [21, 24],\n",
       " [23, 25],\n",
       " [26, 28],\n",
       " [27, 30],\n",
       " [29, 31],\n",
       " [32, 33],\n",
       " [34, 36],\n",
       " [35, 38],\n",
       " [37, 39],\n",
       " [40, 41],\n",
       " [42, 44],\n",
       " [43, 46],\n",
       " [45, 48],\n",
       " [47, 49],\n",
       " [50, 51],\n",
       " [52, 53],\n",
       " [54, 56],\n",
       " [55, 57],\n",
       " [58, 60],\n",
       " [59, 1],\n",
       " [62, 63],\n",
       " [64, 65],\n",
       " [66, 67],\n",
       " [68, 69],\n",
       " [70, 71],\n",
       " [72, 74],\n",
       " [73, 76],\n",
       " [75, 77],\n",
       " [78, 80],\n",
       " [79, 82],\n",
       " [81, 84],\n",
       " [83, 86],\n",
       " [85, 88],\n",
       " [87, 89],\n",
       " [90, 91],\n",
       " [92, 94],\n",
       " [93, 95],\n",
       " [96, 97],\n",
       " [98, 100],\n",
       " [99, 101],\n",
       " [102, 104],\n",
       " [103, 105],\n",
       " [106, 107],\n",
       " [108, 110],\n",
       " [109, 112],\n",
       " [111, 61],\n",
       " [113, 116],\n",
       " [115, 117],\n",
       " [118, 120],\n",
       " [119, 121],\n",
       " [122, 124],\n",
       " [123, 125],\n",
       " [126, 128],\n",
       " [127, 130],\n",
       " [129, 132],\n",
       " [131, 134],\n",
       " [133, 135],\n",
       " [136, 138],\n",
       " [137, 139],\n",
       " [140, 142],\n",
       " [141, 144],\n",
       " [143, 145],\n",
       " [146, 147],\n",
       " [148, 149],\n",
       " [150, 151],\n",
       " [152, 153],\n",
       " [154, 155],\n",
       " [156, 157],\n",
       " [158, 160],\n",
       " [159, 161],\n",
       " [162, 163],\n",
       " [164, 165],\n",
       " [166, 114],\n",
       " [167, 169],\n",
       " [170, 172],\n",
       " [171, 174],\n",
       " [173, 175],\n",
       " [176, 178],\n",
       " [177, 179],\n",
       " [180, 181],\n",
       " [182, 184],\n",
       " [183, 186],\n",
       " [185, 187],\n",
       " [188, 190],\n",
       " [189, 192],\n",
       " [191, 194],\n",
       " [193, 196],\n",
       " [195, 198],\n",
       " [197, 200],\n",
       " [199, 202],\n",
       " [201, 204],\n",
       " [203, 206],\n",
       " [205, 207],\n",
       " [208, 209],\n",
       " [210, 211],\n",
       " [212, 214],\n",
       " [213, 215],\n",
       " [216, 217],\n",
       " [218, 168],\n",
       " [220, 221],\n",
       " [222, 224],\n",
       " [223, 226],\n",
       " [225, 228],\n",
       " [227, 229],\n",
       " [230, 231],\n",
       " [232, 233],\n",
       " [234, 236],\n",
       " [235, 238],\n",
       " [237, 240],\n",
       " [239, 241],\n",
       " [242, 244],\n",
       " [243, 245],\n",
       " [246, 248],\n",
       " [247, 249],\n",
       " [250, 251],\n",
       " [252, 254],\n",
       " [253, 256],\n",
       " [255, 258],\n",
       " [257, 259],\n",
       " [260, 261],\n",
       " [262, 219],\n",
       " [264, 266],\n",
       " [265, 267],\n",
       " [268, 269],\n",
       " [270, 272],\n",
       " [271, 273],\n",
       " [274, 276],\n",
       " [275, 277],\n",
       " [278, 279],\n",
       " [280, 282],\n",
       " [281, 283],\n",
       " [284, 285],\n",
       " [286, 287],\n",
       " [288, 289],\n",
       " [290, 292],\n",
       " [291, 293],\n",
       " [294, 295],\n",
       " [296, 298],\n",
       " [297, 299],\n",
       " [300, 301],\n",
       " [302, 303],\n",
       " [304, 306],\n",
       " [305, 263],\n",
       " [308, 310],\n",
       " [309, 311],\n",
       " [312, 314],\n",
       " [313, 316],\n",
       " [315, 317],\n",
       " [318, 319],\n",
       " [320, 322],\n",
       " [321, 324],\n",
       " [323, 326],\n",
       " [325, 328],\n",
       " [327, 330],\n",
       " [329, 332],\n",
       " [331, 334],\n",
       " [333, 336],\n",
       " [335, 338],\n",
       " [337, 339],\n",
       " [340, 341],\n",
       " [342, 343],\n",
       " [344, 346],\n",
       " [345, 348],\n",
       " [347, 349],\n",
       " [350, 352],\n",
       " [351, 354],\n",
       " [353, 355],\n",
       " [356, 307],\n",
       " [357, 359],\n",
       " [360, 362],\n",
       " [361, 363],\n",
       " [364, 366],\n",
       " [365, 368],\n",
       " [367, 369],\n",
       " [370, 371],\n",
       " [372, 374],\n",
       " [373, 375],\n",
       " [376, 377],\n",
       " [378, 379],\n",
       " [380, 382],\n",
       " [381, 383],\n",
       " [384, 386],\n",
       " [385, 388],\n",
       " [387, 390],\n",
       " [389, 391],\n",
       " [392, 394],\n",
       " [393, 395],\n",
       " [396, 397],\n",
       " [398, 358]]"
      ]
     },
     "execution_count": 85,
     "metadata": {},
     "output_type": "execute_result"
    }
   ],
   "source": [
    "def colored_edges(genome):\n",
    "    genome = genome.replace(')(', ')splitter(')\n",
    "    genome = genome.split('splitter')\n",
    "    edges = []\n",
    "    for chromosome in genome:\n",
    "        nodes = chromosome_to_cycle(chromosome)\n",
    "        nodes = nodes.replace('(', '')\n",
    "        nodes = nodes.replace(')', '')\n",
    "        nodes = nodes.split(' ')\n",
    "        for j in range(1, int(len(nodes)/2)):\n",
    "            edge = [int(nodes[2*j-1]),int(nodes[(2*j+1)-1])]\n",
    "            edges.append(edge)\n",
    "        edge = [int(nodes[-1]),int(nodes[0])]\n",
    "        edges.append(edge)\n",
    "        \n",
    "    #use this for separate exercise\n",
    "    #temp_edges = []\n",
    "    #for edge in edges:\n",
    "    #    edge = [str(x) for x in edge]\n",
    "    #    temp_edges.append(edge)\n",
    "    #return ', '.join(('(' + ', '.join(x) + ')') for x in temp_edges) \n",
    "    \n",
    "    #print('edges',edges)\n",
    "    return edges #use this for use in last function shortest_rearrangement_scenario\n",
    "    \n",
    "colored_edges('(+1 +2 +3 +4 +5 -6 -7 -8 -9 -10 -11 -12 +13 -14 -15 +16 +17 -18 -19 +20 +21 -22 -23 -24 +25 +26 +27 -28 +29 -30)(+31 +32 +33 +34 +35 +36 -37 -38 +39 -40 -41 -42 -43 -44 +45 +46 -47 +48 +49 -50 +51 -52 +53 +54 -55 -56)(-57 -58 +59 -60 +61 -62 +63 -64 -65 -66 -67 +68 -69 +70 -71 -72 +73 +74 +75 +76 +77 +78 +79 -80 +81 +82 +83)(-84 +85 -86 -87 +88 -89 +90 +91 -92 -93 +94 -95 -96 -97 -98 -99 -100 -101 -102 -103 +104 +105 +106 -107 +108 +109)(+110 +111 -112 -113 -114 +115 +116 +117 -118 -119 -120 +121 -122 +123 -124 +125 +126 -127 -128 -129 +130 +131)(+132 -133 +134 +135 -136 +137 -138 +139 +140 -141 +142 +143 +144 +145 -146 +147 +148 -149 +150 +151 +152 -153)(+154 -155 +156 -157 -158 +159 +160 -161 -162 -163 -164 -165 -166 -167 -168 -169 +170 +171 +172 -173 -174 +175 -176 -177 +178)(-179 +180 -181 +182 -183 -184 +185 +186 -187 +188 +189 +190 -191 +192 -193 -194 -195 +196 -197 +198 +199)')"
   ]
  },
  {
   "cell_type": "markdown",
   "metadata": {},
   "source": [
    "GraphToGenome.<br>\n",
    "Input: The colored edges ColoredEdges of a genome graph.<br>\n",
    "Sample input:<br>\n",
    "(2, 4), (3, 6), (5, 1), (7, 9), (10, 12), (11, 8)<br>\n",
    "Output: The genome P corresponding to this genome graph.<br>\n",
    "Sample output:<br>\n",
    "(+1 -2 -3)(-4 +5 -6)"
   ]
  },
  {
   "cell_type": "code",
   "execution_count": 4,
   "metadata": {},
   "outputs": [
    {
     "name": "stdout",
     "output_type": "stream",
     "text": [
      "sorted_genome_graph [[2, 1], [3, 5], [4, 8], [6, 7]]\n",
      "cycles [[[2, 1]], [[3, 5], [4, 8], [6, 7]]]\n",
      "order 1 2\n",
      "order 7 8 4 3 5 6\n"
     ]
    },
    {
     "data": {
      "text/plain": [
       "'(+1)(+4 -2 +3)'"
      ]
     },
     "execution_count": 4,
     "metadata": {},
     "output_type": "execute_result"
    }
   ],
   "source": [
    "def graph_to_genome(genome_graph):\n",
    "    genome_graph = genome_graph.split('), (')\n",
    "    genome_graph = [x.replace('(', '') for x in genome_graph]\n",
    "    genome_graph = [x.replace(')', '') for x in genome_graph]\n",
    "    genome_graph = [x.split(',') for x in genome_graph]\n",
    "    l2 = []\n",
    "    for l_part in genome_graph:\n",
    "        l_part = [int(x) for x in l_part]\n",
    "        l2.append(l_part)\n",
    "    genome_graph = sorted(l2)\n",
    "    print('sorted_genome_graph',genome_graph)\n",
    "\n",
    "    #split colored edges into cycle sets using black edges (always odd number to that number plus 1)\n",
    "    first_edge = genome_graph[0]\n",
    "    black_edge_trail = first_edge[1]\n",
    "    stop_signal = first_edge[0]\n",
    "    stop_evaluator = 10000\n",
    "    number_edges_sorted = 1\n",
    "    cycles = [first_edge]\n",
    "    while stop_evaluator != stop_signal:\n",
    "        \n",
    "        if black_edge_trail%2 == 0: #even so the head should be -1\n",
    "            black_edge_head = black_edge_trail - 1\n",
    "        else:\n",
    "            black_edge_head = black_edge_trail + 1\n",
    "        \n",
    "        for i in range(1,len(genome_graph)):\n",
    "            if black_edge_head in genome_graph[i]:\n",
    "                found_edge = genome_graph[i]\n",
    "                #if the head is on the last position, turn around this colored edge\n",
    "                if found_edge.index(black_edge_head) == 1:\n",
    "                    found_edge = found_edge[::-1]\n",
    "                cycles.append(found_edge)\n",
    "                number_edges_sorted += 1\n",
    "                black_edge_trail = found_edge[1]\n",
    "                #find new thing to evaluate stop_signal against\n",
    "        if black_edge_trail%2 == 0:\n",
    "            stop_evaluator = black_edge_trail - 1\n",
    "        else:\n",
    "            stop_evaluator = black_edge_trail + 1\n",
    "        \n",
    "        \n",
    "    if number_edges_sorted < len(genome_graph):\n",
    "        s1 = set(tuple(row) for row in genome_graph)\n",
    "        s2 = set(tuple(row) for row in cycles)\n",
    "        remaining_edges = s1 - s2\n",
    "        l2 = [list(item) for item in set(tuple(row) for row in remaining_edges)]\n",
    "        l2 = sorted(l2)\n",
    "        cycles = [cycles,l2]\n",
    "    else: cycles = [cycles]\n",
    "    print('cycles',cycles)\n",
    "    \n",
    "    #order the list of edge nodes\n",
    "    #also works correctly when break had led to only one cycle\n",
    "    P = ''\n",
    "    for cycle in cycles:\n",
    "        order = [cycle[-1][-1]]\n",
    "        for j in range(len(cycle)-1):\n",
    "            if order[-1]%2 == 0: #even side of black edge:\n",
    "                #find the colored edge that contains that -1\n",
    "                target = order[-1] - 1\n",
    "            else:\n",
    "                #that + 1\n",
    "                target = order[-1] + 1\n",
    "            for i in range(len(cycle) - 1):\n",
    "                if target in cycle[i]:\n",
    "                    #if target is in the 0th position, add them in order\n",
    "                    if cycle[i].index(target) == 0:\n",
    "                        order.append(cycle[i][0])\n",
    "                        order.append(cycle[i][1])\n",
    "                    else:\n",
    "                        #if target is in last position, add them in reverse order\n",
    "                        order.append(cycle[i][1])\n",
    "                        order.append(cycle[i][0])\n",
    "                    break\n",
    "        order.append(cycle[-1][0])\n",
    "        order = [str(x) for x in order]\n",
    "        order = ' '.join(order)\n",
    "        print('order',order)\n",
    "        P = P + cycle_to_chromosome('(' + order + ')')\n",
    "    return P\n",
    "    \n",
    "#test case for a broken genome that is still one genome\n",
    "#(2, 4), (3, 6), (7, 5), (1, 8)\n",
    "#graph_to_genome('(2, 4), (3, 6), (7, 5), (1, 8)')\n",
    "graph_to_genome('(3, 5), (6, 7), (4, 8), (2, 1)')"
   ]
  },
  {
   "cell_type": "code",
   "execution_count": 94,
   "metadata": {},
   "outputs": [
    {
     "data": {
      "text/plain": [
       "'(-1 -13 +3 -11 -5)(+2 -4 -8 +7 -12 -14)(-6 -9 +10)'"
      ]
     },
     "execution_count": 94,
     "metadata": {},
     "output_type": "execute_result"
    }
   ],
   "source": [
    "def graph_to_genome_list(genome_graph):\n",
    "    \n",
    "    #split colored edges into cycle sets using black edges (always odd number to that number plus 1)\n",
    "    cycles = []\n",
    "    cycle_increase = 1\n",
    "    previous_num_cycles = len(cycles)\n",
    "    while cycle_increase == 1:\n",
    "        new_cycle = []\n",
    "        found_edges = []\n",
    "        genome_graph = sorted(genome_graph)\n",
    "        #print('genome_graph START',genome_graph)\n",
    "        first_edge = genome_graph[0]\n",
    "        new_cycle.append(first_edge)\n",
    "        found_edges.append(first_edge)\n",
    "        black_edge_trail = first_edge[1]\n",
    "        stop_signal = first_edge[0]\n",
    "        stop_evaluator = 10000\n",
    "        \n",
    "        while stop_evaluator != stop_signal:\n",
    "            \n",
    "            if black_edge_trail%2 == 0: #even so the head should be -1\n",
    "                black_edge_head = black_edge_trail - 1\n",
    "            else:\n",
    "                black_edge_head = black_edge_trail + 1\n",
    "\n",
    "            for i in range(1,len(genome_graph)):\n",
    "                if black_edge_head in genome_graph[i]:\n",
    "                    found_edge = genome_graph[i]\n",
    "                    found_edges.append(found_edge)\n",
    "                    #if the head is on the last position, turn around this colored edge\n",
    "                    if found_edge.index(black_edge_head) == 1:\n",
    "                        found_edge = found_edge[::-1]\n",
    "                    new_cycle.append(found_edge)\n",
    "                    black_edge_trail = found_edge[1]\n",
    "                    #find new thing to evaluate stop_signal against\n",
    "            if black_edge_trail%2 == 0:\n",
    "                stop_evaluator = black_edge_trail - 1\n",
    "            else:\n",
    "                stop_evaluator = black_edge_trail + 1\n",
    "        cycles.append(new_cycle)\n",
    "\n",
    "        #print('cycles0',cycles,len(cycles))\n",
    "\n",
    "        s1 = set(tuple(row) for row in genome_graph)\n",
    "        s2 = set(tuple(row) for row in found_edges)\n",
    "        #if len(cycles) == 0:\n",
    "        #    s2 = set(tuple(row) for row in found_edges)\n",
    "        #else:\n",
    "        #    if depth(cycles) == 2:\n",
    "        #        s2 = set(tuple(row) for row in found_edges)\n",
    "        #    else:\n",
    "        #        s2 = set(tuple(row) for row in found_edges[-1])\n",
    "        remaining_edges = s1 - s2\n",
    "        #print('remaining_edges',remaining_edges,len(remaining_edges))\n",
    "        if len(remaining_edges) > 0:\n",
    "            l2 = [list(item) for item in set(tuple(row) for row in remaining_edges)]\n",
    "            l2 = sorted(l2)\n",
    "            #cycles = [cycles]\n",
    "            #cycles += [l2]\n",
    "            #print('l2',l2)\n",
    "            genome_graph = l2\n",
    "            #print('new_genome_graph',genome_graph)\n",
    "        else:\n",
    "            break\n",
    "        #print('cycles2',cycles)\n",
    "        if len(cycles) > previous_num_cycles:\n",
    "            previous_num_cycles = len(cycles)\n",
    "        else:\n",
    "            cycle_increase = 0\n",
    "    \n",
    "    #order the list of edge nodes\n",
    "    #also works correctly when break had led to only one cycle\n",
    "    #print('cyclesP',cycles)\n",
    "    P = ''\n",
    "    for cycle in cycles:\n",
    "        order = [cycle[-1][-1]]\n",
    "        for j in range(len(cycle)-1):\n",
    "            if order[-1]%2 == 0: #even side of black edge:\n",
    "                #find the colored edge that contains that -1\n",
    "                target = order[-1] - 1\n",
    "            else:\n",
    "                #that + 1\n",
    "                target = order[-1] + 1\n",
    "            for i in range(len(cycle) - 1):\n",
    "                if target in cycle[i]:\n",
    "                    #if target is in the 0th position, add them in order\n",
    "                    if cycle[i].index(target) == 0:\n",
    "                        order.append(cycle[i][0])\n",
    "                        order.append(cycle[i][1])\n",
    "                    else:\n",
    "                        #if target is in last position, add them in reverse order\n",
    "                        order.append(cycle[i][1])\n",
    "                        order.append(cycle[i][0])\n",
    "                    break\n",
    "        order.append(cycle[-1][0])\n",
    "        order = [str(x) for x in order]\n",
    "        order = ' '.join(order)\n",
    "        #print('order',order)\n",
    "        P = P + cycle_to_chromosome('(' + order + ')')\n",
    "    return P\n",
    "    \n",
    "#test case for a broken genome that is still one genome\n",
    "#(2, 4), (3, 6), (7, 5), (1, 8)\n",
    "#test case for three cycles\n",
    "graph_to_genome_list([[1, 26], [4, 8], [6, 22], [7, 16], [9, 2], [11, 18], [15, 13], [17, 19], [20, 12], [21, 10], [23, 28], [24, 14], [25, 5], [27, 3]])"
   ]
  },
  {
   "cell_type": "markdown",
   "metadata": {},
   "source": [
    "2-BreakOnGenomeGraph.<br>\n",
    "Input: The colored edges of a genome graph GenomeGraph, followed by indices i1 , i2 , i3 , and i4 .<br>\n",
    "Sample input:<br>\n",
    "(2, 4), (3, 8), (7, 5), (6, 1)<br>\n",
    "1, 6, 3, 8<br>\n",
    "Output: The colored edges of the genome graph resulting from applying the 2-break operation<br>\n",
    "2-BreakOnGenomeGraph(GenomeGraph, i1 , i2 , i3 , i4 ).<br>\n",
    "Sample output:<br>\n",
    "(2, 4), (3, 1), (7, 5), (6, 8)"
   ]
  },
  {
   "cell_type": "code",
   "execution_count": 3,
   "metadata": {},
   "outputs": [
    {
     "data": {
      "text/plain": [
       "'(2, 4), (7, 5), (1, 3), (6, 8)'"
      ]
     },
     "execution_count": 3,
     "metadata": {},
     "output_type": "execute_result"
    }
   ],
   "source": [
    "#this version passes the grader\n",
    "def two_break_on_genome_graphX(genome_graph, i1, i2, i3, i4):\n",
    "    #remove colored edges (i1, i2) and (i3, i4)\n",
    "    #add colored edges (i1, i3) and (i2, i4)\n",
    "    genome_graph = genome_graph.replace(str(i1), '')\n",
    "    genome_graph = genome_graph.replace(str(i2), '')\n",
    "    genome_graph = genome_graph.replace(', (, )', '')\n",
    "    genome_graph = genome_graph.replace(str(i3), '')\n",
    "    genome_graph = genome_graph.replace(str(i4), '')\n",
    "    genome_graph = genome_graph.replace(', (, )', '')\n",
    "    genome_graph = genome_graph + ', (' + str(i1) + ', ' + str(i3) + ')'\n",
    "    genome_graph = genome_graph + ', (' + str(i2) + ', ' + str(i4) + ')'\n",
    "    return genome_graph\n",
    "    \n",
    "two_break_on_genome_graphX('(2, 4), (3, 8), (7, 5), (6, 1)', 1, 6, 3, 8)"
   ]
  },
  {
   "cell_type": "code",
   "execution_count": 231,
   "metadata": {},
   "outputs": [
    {
     "name": "stdout",
     "output_type": "stream",
     "text": [
      "broken into partly reversed genome\n"
     ]
    },
    {
     "data": {
      "text/plain": [
       "'(2, 4), (1, 8), (7, 5), (6, 3)'"
      ]
     },
     "execution_count": 231,
     "metadata": {},
     "output_type": "execute_result"
    }
   ],
   "source": [
    "#this version works for the subsequent analyses\n",
    "def two_break_on_genome_graph(genome_graph, i1, i2, i3, i4):\n",
    "    #remove colored edges (i1, i2) and (i3, i4)\n",
    "    #add colored edges (i3, i1) and (i2, i4)\n",
    "\n",
    "    if ('(' + str(i1) + ', ' + str(i2) + ')') in genome_graph:\n",
    "        first = 'straight'\n",
    "        genome_graph = genome_graph.replace('(' + str(i1) + ', ' + str(i2) + ')', '(' + str(i1) + ', ' + str(i3) + ')')\n",
    "    else:\n",
    "        first = 'opposite'\n",
    "        genome_graph = genome_graph.replace('(' + str(i2) + ', ' + str(i1) + ')', '(' + str(i3) + ', ' + str(i1) + ')')\n",
    "    \n",
    "    if ('(' + str(i3) + ', ' + str(i4) + ')') in genome_graph:\n",
    "        second = 'straight'\n",
    "        genome_graph = genome_graph.replace('(' + str(i3) + ', ' + str(i4) + ')', '(' + str(i2) + ', ' + str(i4) + ')')\n",
    "    else:\n",
    "        second = 'opposite'\n",
    "        genome_graph = genome_graph.replace('(' + str(i4) + ', ' + str(i3) + ')', '(' + str(i4) + ', ' + str(i2) + ')')\n",
    "    \n",
    "    if first != second:\n",
    "        print('broken into two genomes')\n",
    "    else:\n",
    "        print('broken into partly reversed genome')\n",
    "            \n",
    "    return genome_graph\n",
    "    \n",
    "two_break_on_genome_graph('(2, 4), (3, 8), (7, 5), (6, 1)', 6, 1, 3, 8)"
   ]
  },
  {
   "cell_type": "code",
   "execution_count": 81,
   "metadata": {},
   "outputs": [
    {
     "data": {
      "text/plain": [
       "[[2, 4], [7, 5], [6, 3], [1, 8]]"
      ]
     },
     "execution_count": 81,
     "metadata": {},
     "output_type": "execute_result"
    }
   ],
   "source": [
    "#this version works for the subsequent analyses ### version for function shortest_rearrangement_scenario\n",
    "def two_break_on_genome_graph_list(genome_graph, i1, i2, i3, i4):\n",
    "    #remove colored edges (i1, i2) and (i3, i4)\n",
    "    #add colored edges (i3, i1) and (i2, i4)\n",
    "\n",
    "    if [i1,i2] in genome_graph:\n",
    "        #first = 'straight'\n",
    "        genome_graph.remove([i1,i2])\n",
    "        genome_graph.append([i1,i3])\n",
    "        #genome_graph = genome_graph.replace('(' + str(i1) + ', ' + str(i2) + ')', '(' + str(i1) + ', ' + str(i3) + ')')\n",
    "    else:\n",
    "        #first = 'opposite'\n",
    "        genome_graph.remove([i2,i1])\n",
    "        genome_graph.append([i3,i1])\n",
    "        #genome_graph = genome_graph.replace('(' + str(i2) + ', ' + str(i1) + ')', '(' + str(i3) + ', ' + str(i1) + ')')\n",
    "    \n",
    "    if [i3,i4] in genome_graph:\n",
    "        #second = 'straight'\n",
    "        genome_graph.remove([i3,i4])\n",
    "        genome_graph.append([i2,i4])\n",
    "        #genome_graph = genome_graph.replace('(' + str(i3) + ', ' + str(i4) + ')', '(' + str(i2) + ', ' + str(i4) + ')')\n",
    "    else:\n",
    "        #second = 'opposite'\n",
    "        genome_graph.remove([i4,i3])\n",
    "        genome_graph.append([i4,i2])\n",
    "        #genome_graph = genome_graph.replace('(' + str(i4) + ', ' + str(i3) + ')', '(' + str(i4) + ', ' + str(i2) + ')')\n",
    "    \n",
    "    #if first != second:\n",
    "    #    print('broken into two genomes')\n",
    "    #else:\n",
    "    #    print('broken into partly reversed genome')\n",
    "            \n",
    "    return genome_graph\n",
    "    \n",
    "two_break_on_genome_graph_list([[2, 4], [3, 8], [7, 5], [6, 1]], 6, 1, 3, 8)"
   ]
  },
  {
   "cell_type": "markdown",
   "metadata": {},
   "source": [
    "2-BreakOnGenome.<br>\n",
    "Input: A genome P, followed by indices i1 , i2 , i3 , and i4 .<br>\n",
    "Sample input:<br>\n",
    "(+1 -2 -4 +3)<br>\n",
    "1, 6, 3, 8<br>\n",
    "Output: The genome P' resulting from applying the 2-break operation 2-BreakOnGenome(GenomeGraph i1 , i2 , i3 , i4 ).<br>\n",
    "(+1 -2)(-3 +4)"
   ]
  },
  {
   "cell_type": "code",
   "execution_count": 244,
   "metadata": {},
   "outputs": [
    {
     "name": "stdout",
     "output_type": "stream",
     "text": [
      "genome (+1 -2 +3 -4 -5 +6 +7 -8 +9 -10 +11 +12 +13 -14 +15 -16 -17 -18 +19 +20 -21 -22 -23 -24 -25 +26 -27 +28 +29 -30 -31 -32 +33 +34 +35 +36 -37 -38 -39 -40 +41 -42 +43 +44 +45 +46 -47 +48 -49 -50 -51 -52 -53 -54 +55 -56 +57 +58 +59 +60 -61 -62 -63 -64 -65 -66 +67 +68)\n",
      "genome_graph (2, 4), (3, 5), (6, 8), (7, 10), (9, 11), (12, 13), (14, 16), (15, 17), (18, 20), (19, 21), (22, 23), (24, 25), (26, 28), (27, 29), (30, 32), (31, 34), (33, 36), (35, 37), (38, 39), (40, 42), (41, 44), (43, 46), (45, 48), (47, 50), (49, 51), (52, 54), (53, 55), (56, 57), (58, 60), (59, 62), (61, 64), (63, 65), (66, 67), (68, 69), (70, 71), (72, 74), (73, 76), (75, 78), (77, 80), (79, 81), (82, 84), (83, 85), (86, 87), (88, 89), (90, 91), (92, 94), (93, 95), (96, 98), (97, 100), (99, 102), (101, 104), (103, 106), (105, 108), (107, 109), (110, 112), (111, 113), (114, 115), (116, 117), (118, 119), (120, 122), (121, 124), (123, 126), (125, 128), (127, 130), (129, 132), (131, 133), (134, 135), (136, 1)\n",
      "broken into two genomes\n",
      "broken_genome_graph (2, 4), (3, 5), (6, 8), (7, 10), (9, 11), (12, 13), (14, 16), (15, 17), (18, 20), (19, 21), (22, 23), (24, 32), (26, 28), (27, 29), (30, 25), (31, 34), (33, 36), (35, 37), (38, 39), (40, 42), (41, 44), (43, 46), (45, 48), (47, 50), (49, 51), (52, 54), (53, 55), (56, 57), (58, 60), (59, 62), (61, 64), (63, 65), (66, 67), (68, 69), (70, 71), (72, 74), (73, 76), (75, 78), (77, 80), (79, 81), (82, 84), (83, 85), (86, 87), (88, 89), (90, 91), (92, 94), (93, 95), (96, 98), (97, 100), (99, 102), (101, 104), (103, 106), (105, 108), (107, 109), (110, 112), (111, 113), (114, 115), (116, 117), (118, 119), (120, 122), (121, 124), (123, 126), (125, 128), (127, 130), (129, 132), (131, 133), (134, 135), (136, 1)\n",
      "sorted_genome_graph [[2, 4], [3, 5], [6, 8], [7, 10], [9, 11], [12, 13], [14, 16], [15, 17], [18, 20], [19, 21], [22, 23], [24, 32], [26, 28], [27, 29], [30, 25], [31, 34], [33, 36], [35, 37], [38, 39], [40, 42], [41, 44], [43, 46], [45, 48], [47, 50], [49, 51], [52, 54], [53, 55], [56, 57], [58, 60], [59, 62], [61, 64], [63, 65], [66, 67], [68, 69], [70, 71], [72, 74], [73, 76], [75, 78], [77, 80], [79, 81], [82, 84], [83, 85], [86, 87], [88, 89], [90, 91], [92, 94], [93, 95], [96, 98], [97, 100], [99, 102], [101, 104], [103, 106], [105, 108], [107, 109], [110, 112], [111, 113], [114, 115], [116, 117], [118, 119], [120, 122], [121, 124], [123, 126], [125, 128], [127, 130], [129, 132], [131, 133], [134, 135], [136, 1]]\n",
      "cycles [[[2, 4], [3, 5], [6, 8], [7, 10], [9, 11], [12, 13], [14, 16], [15, 17], [18, 20], [19, 21], [22, 23], [24, 32], [31, 34], [33, 36], [35, 37], [38, 39], [40, 42], [41, 44], [43, 46], [45, 48], [47, 50], [49, 51], [52, 54], [53, 55], [56, 57], [58, 60], [59, 62], [61, 64], [63, 65], [66, 67], [68, 69], [70, 71], [72, 74], [73, 76], [75, 78], [77, 80], [79, 81], [82, 84], [83, 85], [86, 87], [88, 89], [90, 91], [92, 94], [93, 95], [96, 98], [97, 100], [99, 102], [101, 104], [103, 106], [105, 108], [107, 109], [110, 112], [111, 113], [114, 115], [116, 117], [118, 119], [120, 122], [121, 124], [123, 126], [125, 128], [127, 130], [129, 132], [131, 133], [134, 135], [136, 1]], [[26, 28], [27, 29], [30, 25]]]\n",
      "order 1 2 4 3 5 6 8 7 10 9 11 12 13 14 16 15 17 18 20 19 21 22 23 24 32 31 34 33 36 35 37 38 39 40 42 41 44 43 46 45 48 47 50 49 51 52 54 53 55 56 57 58 60 59 62 61 64 63 65 66 67 68 69 70 71 72 74 73 76 75 78 77 80 79 81 82 84 83 85 86 87 88 89 90 91 92 94 93 95 96 98 97 100 99 102 101 104 103 106 105 108 107 109 110 112 111 113 114 115 116 117 118 119 120 122 121 124 123 126 125 128 127 130 129 132 131 133 134 135 136\n",
      "order 25 26 28 27 29 30\n"
     ]
    },
    {
     "data": {
      "text/plain": [
       "'(+1 -2 +3 -4 -5 +6 +7 -8 +9 -10 +11 +12 -16 -17 -18 +19 +20 -21 -22 -23 -24 -25 +26 -27 +28 +29 -30 -31 -32 +33 +34 +35 +36 -37 -38 -39 -40 +41 -42 +43 +44 +45 +46 -47 +48 -49 -50 -51 -52 -53 -54 +55 -56 +57 +58 +59 +60 -61 -62 -63 -64 -65 -66 +67 +68)(+13 -14 +15)'"
      ]
     },
     "execution_count": 244,
     "metadata": {},
     "output_type": "execute_result"
    }
   ],
   "source": [
    "def two_break_on_genome(P, i1, i2, i3, i4):\n",
    "    print('genome',P)\n",
    "    genome_graph = colored_edges(P)\n",
    "    print('genome_graph',genome_graph)\n",
    "    genome_graph = two_break_on_genome_graph(genome_graph, i1, i2, i3, i4)\n",
    "    print('broken_genome_graph',genome_graph)\n",
    "    P2 = graph_to_genome(genome_graph)\n",
    "    return P2 \n",
    "    \n",
    "two_break_on_genome('(+1 -2 +3 -4 -5 +6 +7 -8 +9 -10 +11 +12 +13 -14 +15 -16 -17 -18 +19 +20 -21 -22 -23 -24 -25 +26 -27 +28 +29 -30 -31 -32 +33 +34 +35 +36 -37 -38 -39 -40 +41 -42 +43 +44 +45 +46 -47 +48 -49 -50 -51 -52 -53 -54 +55 -56 +57 +58 +59 +60 -61 -62 -63 -64 -65 -66 +67 +68)', 30, 32, 25, 24)"
   ]
  },
  {
   "cell_type": "code",
   "execution_count": 92,
   "metadata": {},
   "outputs": [
    {
     "name": "stdout",
     "output_type": "stream",
     "text": [
      "genome (+1 -2 +3 -4 -5 +6 +7 -8 +9 -10 +11 +12 +13 -14 +15 -16 -17 -18 +19 +20 -21 -22 -23 -24 -25 +26 -27 +28 +29 -30 -31 -32 +33 +34 +35 +36 -37 -38 -39 -40 +41 -42 +43 +44 +45 +46 -47 +48 -49 -50 -51 -52 -53 -54 +55 -56 +57 +58 +59 +60 -61 -62 -63 -64 -65 -66 +67 +68)\n",
      "genome_graph [[2, 4], [3, 5], [6, 8], [7, 10], [9, 11], [12, 13], [14, 16], [15, 17], [18, 20], [19, 21], [22, 23], [24, 25], [26, 28], [27, 29], [30, 32], [31, 34], [33, 36], [35, 37], [38, 39], [40, 42], [41, 44], [43, 46], [45, 48], [47, 50], [49, 51], [52, 54], [53, 55], [56, 57], [58, 60], [59, 62], [61, 64], [63, 65], [66, 67], [68, 69], [70, 71], [72, 74], [73, 76], [75, 78], [77, 80], [79, 81], [82, 84], [83, 85], [86, 87], [88, 89], [90, 91], [92, 94], [93, 95], [96, 98], [97, 100], [99, 102], [101, 104], [103, 106], [105, 108], [107, 109], [110, 112], [111, 113], [114, 115], [116, 117], [118, 119], [120, 122], [121, 124], [123, 126], [125, 128], [127, 130], [129, 132], [131, 133], [134, 135], [136, 1]]\n",
      "broken_genome_graph [[2, 4], [3, 5], [6, 8], [7, 10], [9, 11], [12, 13], [14, 16], [15, 17], [18, 20], [19, 21], [22, 23], [26, 28], [27, 29], [31, 34], [33, 36], [35, 37], [38, 39], [40, 42], [41, 44], [43, 46], [45, 48], [47, 50], [49, 51], [52, 54], [53, 55], [56, 57], [58, 60], [59, 62], [61, 64], [63, 65], [66, 67], [68, 69], [70, 71], [72, 74], [73, 76], [75, 78], [77, 80], [79, 81], [82, 84], [83, 85], [86, 87], [88, 89], [90, 91], [92, 94], [93, 95], [96, 98], [97, 100], [99, 102], [101, 104], [103, 106], [105, 108], [107, 109], [110, 112], [111, 113], [114, 115], [116, 117], [118, 119], [120, 122], [121, 124], [123, 126], [125, 128], [127, 130], [129, 132], [131, 133], [134, 135], [136, 1], [30, 25], [24, 32]]\n",
      "genome_graph START [[2, 4], [3, 5], [6, 8], [7, 10], [9, 11], [12, 13], [14, 16], [15, 17], [18, 20], [19, 21], [22, 23], [24, 32], [26, 28], [27, 29], [30, 25], [31, 34], [33, 36], [35, 37], [38, 39], [40, 42], [41, 44], [43, 46], [45, 48], [47, 50], [49, 51], [52, 54], [53, 55], [56, 57], [58, 60], [59, 62], [61, 64], [63, 65], [66, 67], [68, 69], [70, 71], [72, 74], [73, 76], [75, 78], [77, 80], [79, 81], [82, 84], [83, 85], [86, 87], [88, 89], [90, 91], [92, 94], [93, 95], [96, 98], [97, 100], [99, 102], [101, 104], [103, 106], [105, 108], [107, 109], [110, 112], [111, 113], [114, 115], [116, 117], [118, 119], [120, 122], [121, 124], [123, 126], [125, 128], [127, 130], [129, 132], [131, 133], [134, 135], [136, 1]]\n",
      "cycles0 [[[2, 4], [3, 5], [6, 8], [7, 10], [9, 11], [12, 13], [14, 16], [15, 17], [18, 20], [19, 21], [22, 23], [24, 32], [31, 34], [33, 36], [35, 37], [38, 39], [40, 42], [41, 44], [43, 46], [45, 48], [47, 50], [49, 51], [52, 54], [53, 55], [56, 57], [58, 60], [59, 62], [61, 64], [63, 65], [66, 67], [68, 69], [70, 71], [72, 74], [73, 76], [75, 78], [77, 80], [79, 81], [82, 84], [83, 85], [86, 87], [88, 89], [90, 91], [92, 94], [93, 95], [96, 98], [97, 100], [99, 102], [101, 104], [103, 106], [105, 108], [107, 109], [110, 112], [111, 113], [114, 115], [116, 117], [118, 119], [120, 122], [121, 124], [123, 126], [125, 128], [127, 130], [129, 132], [131, 133], [134, 135], [136, 1]]] 1\n",
      "remaining_edges {(30, 25), (26, 28), (27, 29)} 3\n",
      "l2 [[26, 28], [27, 29], [30, 25]]\n",
      "new_genome_graph [[26, 28], [27, 29], [30, 25]]\n",
      "cycles2 [[[2, 4], [3, 5], [6, 8], [7, 10], [9, 11], [12, 13], [14, 16], [15, 17], [18, 20], [19, 21], [22, 23], [24, 32], [31, 34], [33, 36], [35, 37], [38, 39], [40, 42], [41, 44], [43, 46], [45, 48], [47, 50], [49, 51], [52, 54], [53, 55], [56, 57], [58, 60], [59, 62], [61, 64], [63, 65], [66, 67], [68, 69], [70, 71], [72, 74], [73, 76], [75, 78], [77, 80], [79, 81], [82, 84], [83, 85], [86, 87], [88, 89], [90, 91], [92, 94], [93, 95], [96, 98], [97, 100], [99, 102], [101, 104], [103, 106], [105, 108], [107, 109], [110, 112], [111, 113], [114, 115], [116, 117], [118, 119], [120, 122], [121, 124], [123, 126], [125, 128], [127, 130], [129, 132], [131, 133], [134, 135], [136, 1]]]\n",
      "genome_graph START [[26, 28], [27, 29], [30, 25]]\n",
      "cycles0 [[[2, 4], [3, 5], [6, 8], [7, 10], [9, 11], [12, 13], [14, 16], [15, 17], [18, 20], [19, 21], [22, 23], [24, 32], [31, 34], [33, 36], [35, 37], [38, 39], [40, 42], [41, 44], [43, 46], [45, 48], [47, 50], [49, 51], [52, 54], [53, 55], [56, 57], [58, 60], [59, 62], [61, 64], [63, 65], [66, 67], [68, 69], [70, 71], [72, 74], [73, 76], [75, 78], [77, 80], [79, 81], [82, 84], [83, 85], [86, 87], [88, 89], [90, 91], [92, 94], [93, 95], [96, 98], [97, 100], [99, 102], [101, 104], [103, 106], [105, 108], [107, 109], [110, 112], [111, 113], [114, 115], [116, 117], [118, 119], [120, 122], [121, 124], [123, 126], [125, 128], [127, 130], [129, 132], [131, 133], [134, 135], [136, 1]], [[26, 28], [27, 29], [30, 25]]] 2\n",
      "remaining_edges set() 0\n",
      "cyclesP [[[2, 4], [3, 5], [6, 8], [7, 10], [9, 11], [12, 13], [14, 16], [15, 17], [18, 20], [19, 21], [22, 23], [24, 32], [31, 34], [33, 36], [35, 37], [38, 39], [40, 42], [41, 44], [43, 46], [45, 48], [47, 50], [49, 51], [52, 54], [53, 55], [56, 57], [58, 60], [59, 62], [61, 64], [63, 65], [66, 67], [68, 69], [70, 71], [72, 74], [73, 76], [75, 78], [77, 80], [79, 81], [82, 84], [83, 85], [86, 87], [88, 89], [90, 91], [92, 94], [93, 95], [96, 98], [97, 100], [99, 102], [101, 104], [103, 106], [105, 108], [107, 109], [110, 112], [111, 113], [114, 115], [116, 117], [118, 119], [120, 122], [121, 124], [123, 126], [125, 128], [127, 130], [129, 132], [131, 133], [134, 135], [136, 1]], [[26, 28], [27, 29], [30, 25]]]\n"
     ]
    },
    {
     "data": {
      "text/plain": [
       "'(+1 -2 +3 -4 -5 +6 +7 -8 +9 -10 +11 +12 -16 -17 -18 +19 +20 -21 -22 -23 -24 -25 +26 -27 +28 +29 -30 -31 -32 +33 +34 +35 +36 -37 -38 -39 -40 +41 -42 +43 +44 +45 +46 -47 +48 -49 -50 -51 -52 -53 -54 +55 -56 +57 +58 +59 +60 -61 -62 -63 -64 -65 -66 +67 +68)(+13 -14 +15)'"
      ]
     },
     "execution_count": 92,
     "metadata": {},
     "output_type": "execute_result"
    }
   ],
   "source": [
    "def two_break_on_genome_list(P, i1, i2, i3, i4): #version for function shortest_rearrangement_scenario\n",
    "    print('genome',P)\n",
    "    genome_graph = colored_edges(P)\n",
    "    print('genome_graph',genome_graph)\n",
    "    genome_graph = two_break_on_genome_graph_list(genome_graph, i1, i2, i3, i4)\n",
    "    print('broken_genome_graph',genome_graph)\n",
    "    P2 = graph_to_genome_list(genome_graph)\n",
    "    return P2 \n",
    "    \n",
    "two_break_on_genome_list('(+1 -2 +3 -4 -5 +6 +7 -8 +9 -10 +11 +12 +13 -14 +15 -16 -17 -18 +19 +20 -21 -22 -23 -24 -25 +26 -27 +28 +29 -30 -31 -32 +33 +34 +35 +36 -37 -38 -39 -40 +41 -42 +43 +44 +45 +46 -47 +48 -49 -50 -51 -52 -53 -54 +55 -56 +57 +58 +59 +60 -61 -62 -63 -64 -65 -66 +67 +68)', 30, 32, 25, 24)"
   ]
  },
  {
   "cell_type": "markdown",
   "metadata": {},
   "source": [
    "The 2-Break Distance Problem.<br>\n",
    "Input: Genomes P and Q.<br>\n",
    "Sample input:<br>\n",
    "(+1 +2 +3 +4 +5 +6)<br>\n",
    "(+1 -3 -6 -5)(+2 -4)<br>\n",
    "Output: The 2-break distance d(P, Q).<br>\n",
    "Sample output:<br>\n",
    "3"
   ]
  },
  {
   "cell_type": "code",
   "execution_count": 96,
   "metadata": {},
   "outputs": [
    {
     "data": {
      "text/plain": [
       "3"
      ]
     },
     "execution_count": 96,
     "metadata": {},
     "output_type": "execute_result"
    }
   ],
   "source": [
    "\n",
    "def graph_to_cycles(genome_graph): #function for red and blue edges concatenated, so each number occurs twice\n",
    "    #only need this type conversion part for the separate exercise; omit for the last function shortest_rearrangemen_scenario\n",
    "    #genome_graph = genome_graph.split('), (')\n",
    "    #genome_graph = [x.replace('(', '') for x in genome_graph]\n",
    "    #genome_graph = [x.replace(')', '') for x in genome_graph]\n",
    "    #genome_graph = [x.split(',') for x in genome_graph]\n",
    "    #l2 = []\n",
    "    #for l_part in genome_graph:\n",
    "    #    l_part = [int(x) for x in l_part]\n",
    "    #    l2.append(l_part)\n",
    "    #genome_graph = sorted(l2)\n",
    "    #genome_graph = sorted(genome_graph)\n",
    "    no_P_blocks = int(len(genome_graph)/2)\n",
    "\n",
    "    #split colored edges into cycle sets by tracing edge numbers\n",
    "    number_edges_sorted = 0\n",
    "    cycles = []\n",
    "    \n",
    "    #take out cycles until no edges left: recursive\n",
    "    while len(genome_graph) > 0:\n",
    "        order = []\n",
    "        cycle = []\n",
    "        this_edge = genome_graph[0]\n",
    "        order.append(genome_graph[0][1])\n",
    "        finished_edges = []\n",
    "        apples = 0\n",
    "        while order[-1] != genome_graph[0][0]:\n",
    "            #find the connecting edge, skip those that were linked already\n",
    "            for i in range(len(genome_graph)):\n",
    "                if order[-1] in genome_graph[i] and genome_graph[i] not in finished_edges:\n",
    "                    next_edge = genome_graph[i]\n",
    "                    cycle.append(next_edge)\n",
    "                    finished_edges.append(next_edge)\n",
    "            if next_edge.index(order[-1]) == 1: #reverse node if the connection is at the rear end\n",
    "                next_edge = next_edge[::-1]\n",
    "            order.append(next_edge[1])\n",
    "            number_edges_sorted += 1\n",
    "        cycles.append(cycle)\n",
    "        s1 = set(tuple(row) for row in genome_graph)\n",
    "        s2 = set(tuple(row) for row in finished_edges)\n",
    "        remaining_edges = s1 - s2\n",
    "        l2 = [list(item) for item in set(tuple(row) for row in remaining_edges)]\n",
    "        l2 = sorted(l2)\n",
    "        genome_graph = l2\n",
    "        #print('cycles',cycles)\n",
    "    return (len(cycles), no_P_blocks, cycles)\n",
    "    \n",
    "def two_break_distance(P, Q):\n",
    "    P_colored = colored_edges(P)\n",
    "    Q_colored = colored_edges(Q)\n",
    "    #R_colored = P_colored.append(Q_colored) #string-based version\n",
    "    R_colored = P_colored + Q_colored\n",
    "    #print('R_colored',R_colored)\n",
    "    no_R_cycles = graph_to_cycles(R_colored)\n",
    "    #print('number of R_cycles',no_R_cycles[0])\n",
    "    #print('number of P_blocks', no_R_cycles[1])\n",
    "    #print('two-break distance is',no_R_cycles[1] - no_R_cycles[0])\n",
    "    return no_R_cycles[1] - no_R_cycles[0]\n",
    "    \n",
    "#(+1 -3 -6 -5)(+2 -4)\n",
    "#two_break_distance('(+1 +2 +3 +4 +5 +6)', '(+1 -3 -6 -5)(+2 -4)')\n",
    "two_break_distance('(+1 +2 +3 +4 +5 +6)', '(+1 -3 -6 -5)(+2 -4)')"
   ]
  },
  {
   "cell_type": "markdown",
   "metadata": {},
   "source": [
    "2-Break Sorting Problem: Find a shortest transformation of one genome into another by 2-breaks.<br>\n",
    "Input: Two genomes with circular chromosomes on the same set of synteny blocks.<br>\n",
    "Sample input:<br>\n",
    "(+1 -2 -3 +4)<br>\n",
    "(+1 +2 -4 -3)<br>\n",
    "Output: The sequence of genomes resulting from applying a shortest sequence of 2-breaks<br>\n",
    "transforming one genome into the other.<br>\n",
    "Sample output:<br>\n",
    "(+1 -2 -3 +4)<br>\n",
    "(+1 -2 -3)(+4)<br>\n",
    "(+1 -2 -4 -3)<br>\n",
    "(-3 +1 +2 -4)"
   ]
  },
  {
   "cell_type": "code",
   "execution_count": 103,
   "metadata": {},
   "outputs": [
    {
     "name": "stdout",
     "output_type": "stream",
     "text": [
      "(-9 -10 -5 -6 -2 -3 -1 +12 +11 -7 +8 +4 +13)\n",
      "(-1 +12 +11 -7 +8 +4 +13 -9 -10 -5 -2 -3)(-6)\n",
      "(-1 +12 +11 -7 +8 +4 +13 -9)(-2 -3 -10 -5)(-6)\n",
      "(-1 +12 -10 -5 -2 -3 +11 -7 +8 +4 +13 -9)(-6)\n",
      "(-1 +12 -10 +7 -11 +3 +2 +5 +8 +4 +13 -9)(-6)\n",
      "(-1 +12 -10 +7 +3 +2 +5 +8 +4 +13 -9)(-6)(+11)\n",
      "(-2 +12 -10 +7 +3 +1 +9 -13 -4 -8 -5)(-6)(+11)\n",
      "(+1 +9 -13 -4 -8 -5 -2 +12 -10 +6 +7 +3)(+11)\n",
      "(+1 +9 -13 -8 -5 -2 +12 -10 +6 +7 +3)(-4)(+11)\n",
      "(+1 +9 -11 -13 -8 -5 -2 +12 -10 +6 +7 +3)(-4)\n",
      "(+1 +9 -11 -13 -8 -5 -2 +10 -12 +6 +7 +3)(-4)\n",
      "(+1 +9 -11 +4 -13 -8 -5 -2 +10 -12 +6 +7 +3)\n",
      "(+1 +9 -11 +12 -10 +2 +5 +8 +13 -4 +6 +7 +3)\n"
     ]
    }
   ],
   "source": [
    "def shortest_rearrangement_scenario(P, Q):\n",
    "    print(P)\n",
    "    red_edges = colored_edges(P)\n",
    "    blue_edges = colored_edges(Q)\n",
    "    x=0\n",
    "    blue_set = list(range(0,len(blue_edges)-1))\n",
    "    breakpoint_graph = red_edges + blue_edges\n",
    "    while two_break_distance(P,Q) > 0:\n",
    "    #apple = 0\n",
    "    #while apple == 0:\n",
    "        #find a non-trivial redblue cycle - i.e. one with more than two edges\n",
    "        backup_P = P\n",
    "        #print('red_edges_before1',red_edges)\n",
    "        red_edges = colored_edges(P)\n",
    "        #print('red_edges_before2',red_edges)\n",
    "        blue_edges = colored_edges(Q)\n",
    "        breakpoint_graph = red_edges + blue_edges\n",
    "        breakpoint_graph_cycles = graph_to_cycles(breakpoint_graph)[2]\n",
    "        #print('breakpoint_graph_cycles',breakpoint_graph_cycles)\n",
    "        for cycle in breakpoint_graph_cycles:\n",
    "            if len(cycle) > 2:\n",
    "                selected_cycle = cycle\n",
    "        #print('selected_cycle',selected_cycle)\n",
    "        #take any (i2, i3) BLUE edge from it\n",
    "        #choose random x from blue_set:\n",
    "        x = random.choice(blue_set)\n",
    "        selected_edge = blue_edges[x]\n",
    "        #print('selected_edge',selected_edge)\n",
    "        \n",
    "        #take any (i1, i2) edge from red_edges\n",
    "        for red_edge in red_edges:\n",
    "            if selected_edge[1] in red_edge:\n",
    "                selected_red_edge1 = red_edge\n",
    "        #print('selected_red_edge1',selected_red_edge1)\n",
    "        i1 = list(selected_red_edge1)\n",
    "        i1.remove(selected_edge[1])\n",
    "        i1=i1[0]\n",
    "        #take any (i3, i4) edge from red_edges\n",
    "        #print('red_edges_before2b',red_edges)\n",
    "        for red_edge in red_edges:\n",
    "            if selected_edge[0] in red_edge:\n",
    "                selected_red_edge2 = red_edge\n",
    "                i4 = selected_red_edge2[1]\n",
    "        #print('selected_red_edge2',selected_red_edge2)\n",
    "        #print('red_edges_before3',red_edges)\n",
    "        i4 = list(selected_red_edge2)\n",
    "        i4.remove(selected_edge[0])\n",
    "        i4=i4[0]\n",
    "        #remove (i1, i2) and (i3, i4) from red_edges\n",
    "        #print('red_edges',red_edges)\n",
    "        #print('the i-s',i1,i4)\n",
    "        try: \n",
    "            red_edges.remove(selected_red_edge1)\n",
    "            #print('removed1',selected_red_edge1)\n",
    "        except: \n",
    "            red_edges.remove(selected_red_edge1[::-1])\n",
    "            #print('removed2',selected_red_edge1[::-1])\n",
    "        try: \n",
    "            red_edges.remove(selected_red_edge2)\n",
    "            #print('removed3',selected_red_edge2)\n",
    "        except: \n",
    "            red_edges.remove(selected_red_edge2[::-1])\n",
    "            #print('removed4',selected_red_edge2[::-1])\n",
    "        #add (i2, i3) and (i4, i1) to red_edges\n",
    "        red_edges.append(selected_edge)\n",
    "        red_edges.append([i4, i1])\n",
    "        #print('updated red_edges',red_edges)\n",
    "        \n",
    "        #print('what goes in', i1, selected_edge[1], selected_edge[0], i4)\n",
    "        P = graph_to_genome_list(red_edges)\n",
    "        #print('P_test',P)\n",
    "        if two_break_distance(P, Q) >= two_break_distance(backup_P, Q):\n",
    "            P = backup_P\n",
    "        else:\n",
    "            blue_set.remove(x)\n",
    "            #print('P',P,two_break_distance(P, Q))\n",
    "            print(P)\n",
    "        \n",
    "import random\n",
    "\n",
    "#shortest_rearrangement_scenario('(+1 -2 -3 +4)','(+1 +2 -4 -3)')\n",
    "shortest_rearrangement_scenario('(-9 -10 -5 -6 -2 -3 -1 +12 +11 -7 +8 +4 +13)','(+12 -10 +2 +5 +8 +13 -4 +6 +7 +3 +1 +9 -11)')"
   ]
  },
  {
   "cell_type": "code",
   "execution_count": null,
   "metadata": {},
   "outputs": [],
   "source": []
  }
 ],
 "metadata": {
  "kernelspec": {
   "display_name": "Python 3",
   "language": "python",
   "name": "python3"
  },
  "language_info": {
   "codemirror_mode": {
    "name": "ipython",
    "version": 3
   },
   "file_extension": ".py",
   "mimetype": "text/x-python",
   "name": "python",
   "nbconvert_exporter": "python",
   "pygments_lexer": "ipython3",
   "version": "3.6.4"
  }
 },
 "nbformat": 4,
 "nbformat_minor": 2
}
